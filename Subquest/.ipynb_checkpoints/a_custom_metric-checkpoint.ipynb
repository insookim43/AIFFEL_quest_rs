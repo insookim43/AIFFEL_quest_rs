{
 "cells": [
  {
   "cell_type": "code",
   "execution_count": 1,
   "id": "ee4d2aae",
   "metadata": {},
   "outputs": [],
   "source": [
    "# preliminary\n",
    "from tensorflow.keras.datasets import imdb\n",
    "from tensorflow import keras\n",
    "from tensorflow.keras import layers \n",
    "import numpy as np\n",
    "import tensorflow as tf"
   ]
  },
  {
   "cell_type": "code",
   "execution_count": 2,
   "id": "66babbab",
   "metadata": {},
   "outputs": [],
   "source": [
    "# load imdb data\n",
    "(train_data, train_labels), _ = imdb.load_data(num_words=10000)"
   ]
  },
  {
   "cell_type": "code",
   "execution_count": 3,
   "id": "6667b7dd",
   "metadata": {},
   "outputs": [],
   "source": [
    "# \n",
    "def vectorize_sequences(sequences, dimension=10000):\n",
    "    results = np.zeros((len(sequences), dimension))\n",
    "    for i, sequence in enumerate(sequences):\n",
    "        results[i, sequence] = 1.\n",
    "    return results\n",
    "\n",
    "train_data = vectorize_sequences(train_data)\n",
    "\n",
    "# define model\n",
    "def build_model():\n",
    "    model = keras.Sequential([\n",
    "        layers.Dense(4, activation=\"relu\"),\n",
    "        layers.Dense(4, activation=\"relu\"),\n",
    "        layers.Dense(1, activation=\"sigmoid\")\n",
    "    ])\n",
    "    return model"
   ]
  },
  {
   "cell_type": "code",
   "execution_count": 4,
   "id": "cdf55513",
   "metadata": {},
   "outputs": [
    {
     "name": "stdout",
     "output_type": "stream",
     "text": [
      "[1 0 0 ... 0 1 0]\n"
     ]
    }
   ],
   "source": [
    "print(train_labels)"
   ]
  },
  {
   "cell_type": "code",
   "execution_count": 5,
   "id": "89e232b9",
   "metadata": {},
   "outputs": [],
   "source": [
    "class RootMeanSquaredError(keras.metrics.Metric):\n",
    "    def __init__(self, name=\"rmse\", **kwargs):\n",
    "        super().__init__(name=name, **kwargs)\n",
    "        self.mse_sum = self.add_weight(name=\"mse_sum\", initializer=\"zeros\")\n",
    "        self.total_samples = self.add_weight(\n",
    "            name=\"total_samples\", initializer=\"zeros\", dtype=\"int32\"\n",
    "        )\n",
    "    \n",
    "    def update_state(self, y_true, y_pred, sample_weight=None):\n",
    "        y_true = tf.one_hot(y_true, depth=tf.shape(y_pred)[1])\n",
    "        mse = tf.reduce_sum(tf.square(y_true - y_pred))\n",
    "        self.mse_sum.assign_add(mse)\n",
    "        num_samples = tf.shape(y_pred)[0]\n",
    "        self.total_samples.assign_add(num_samples)\n",
    "    \n",
    "    def result(self):\n",
    "        return tf.sqrt(self.mse_sum / tf.cast(self.total_samples, tf.float32))\n",
    "    \n",
    "    def reset_state(self):\n",
    "        self.mse_sum.assign(0.)\n",
    "        self.total_samples.assign(0)"
   ]
  },
  {
   "cell_type": "code",
   "execution_count": 6,
   "id": "3f2aabf0",
   "metadata": {},
   "outputs": [],
   "source": [
    "class F1Score(keras.metrics.Metric):\n",
    "    def __init__(self, name=\"F1score_user\", **kwargs):\n",
    "        super().__init__(name=name, **kwargs)\n",
    "        self.true_positives = self.add_weight(name=\"true_positives\", initializer=\"zeros\")\n",
    "        self.predicted_positives = self.add_weight(name=\"predicted_positives\", initializer=\"zeros\") \n",
    "        self.actual_positives = self.add_weight(name=\"actual_positives\", initializer=\"zeros\")\n",
    "            \n",
    "    def update_state(self, y_true, y_pred, sample_weight=None):\n",
    "        # For binary classification, threshold predictions at 0.5\n",
    "        y_pred_classes = tf.squeeze(tf.cast(y_pred > 0.5, \"float32\"))\n",
    "        y_true = tf.squeeze(tf.cast(y_true, \"float32\"))\n",
    "\n",
    "        actual_positives = tf.reduce_sum(y_true)\n",
    "        true_positives = tf.reduce_sum(y_true * y_pred_classes)\n",
    "        predicted_positives = tf.reduce_sum(y_pred_classes)\n",
    "        \n",
    "        self.true_positives.assign_add(true_positives)\n",
    "        self.predicted_positives.assign_add(predicted_positives)     \n",
    "        self.actual_positives.assign_add(actual_positives)     \n",
    "    \n",
    "    def result(self):\n",
    "        precision = ( tf.cast(self.true_positives, tf.float32) \n",
    "              / tf.cast(self.predicted_positives, tf.float32) + tf.keras.backend.epsilon())\n",
    "        recall = ( tf.cast(self.true_positives, tf.float32) \n",
    "              / tf.cast(self.actual_positives, tf.float32) + tf.keras.backend.epsilon())\n",
    "        return  (2 * recall * precision) / (recall + precision + tf.keras.backend.epsilon())\n",
    "    \n",
    "    def reset_state(self):\n",
    "        self.true_positives.assign(0)\n",
    "        self.predicted_positives.assign(0)\n",
    "        self.actual_positives.assign(0)\n",
    "                "
   ]
  },
  {
   "cell_type": "code",
   "execution_count": 7,
   "id": "d20123c2",
   "metadata": {},
   "outputs": [],
   "source": [
    "class acc_user(keras.metrics.Metric):\n",
    "    def __init__(self, name=\"acc_user\", **kwargs):\n",
    "        super().__init__(name=name, **kwargs)\n",
    "        self.true_positives = self.add_weight(name=\"true_positives\", initializer=\"zeros\")\n",
    "        self.predicted_positives = self.add_weight(name=\"predicted_positives\", initializer=\"zeros\") \n",
    "        self.actual_positives = self.add_weight(name=\"actual_positives\", initializer=\"zeros\")\n",
    "        self.true_negatives = self.add_weight(name=\"true_negatives\", initializer=\"zeros\")\n",
    "        self.total_samples = self.add_weight(\n",
    "            name=\"total_samples\", initializer=\"zeros\", dtype=\"int32\"\n",
    "        )\n",
    "#         tp + tn / tp + fp + tn + fn = acc\n",
    "#         tp + fp = p.p\n",
    "#         tp + fn = a.p\n",
    "#         tn             \n",
    "    def update_state(self, y_true, y_pred, sample_weight=None):\n",
    "        # For binary classification, threshold predictions at 0.5\n",
    "        y_pred_classes = tf.squeeze(tf.cast(y_pred > 0.5, \"float32\"))\n",
    "        y_true = tf.squeeze(tf.cast(y_true, \"float32\"))\n",
    "               \n",
    "        actual_positives = tf.reduce_sum(y_true)\n",
    "        true_positives = tf.reduce_sum(y_true * y_pred_classes)\n",
    "        predicted_positives = tf.reduce_sum(y_pred_classes)\n",
    "        # false_negatives = tf.reduce_sum(y_true.shape[0] - predicted_positives - (y_true.shape[0]-y_true))\n",
    "        # all samples - p.p - tn\n",
    "        # tn = !y_true\n",
    "        #true_negatives = tf.reduce_sum(tf.constant(1, dtype=\"float32\") -y_true)\n",
    "        true_negatives = tf.reduce_sum((1 -y_true)*(1-y_pred_classes))\n",
    "        total_samples = tf.shape(y_pred)[0]\n",
    "        \n",
    "        self.true_positives.assign_add(true_positives)\n",
    "        self.predicted_positives.assign_add(predicted_positives)     \n",
    "        self.actual_positives.assign_add(actual_positives)     \n",
    "        self.true_negatives.assign_add(true_negatives)\n",
    "        self.total_samples.assign_add(total_samples)    \n",
    "        \n",
    "    def result(self):\n",
    "\n",
    "        return  (self.true_positives+self.true_negatives)/(tf.cast(self.total_samples, tf.float32) + tf.keras.backend.epsilon())\n",
    "        #return self.total_samples\n",
    "    \n",
    "    def reset_state(self):\n",
    "        self.true_positives.assign(0)\n",
    "        self.predicted_positives.assign(0)\n",
    "        self.actual_positives.assign(0)\n",
    "        self.true_negatives.assign(0)\n",
    "        self.total_samples.assign(0)\n",
    "                "
   ]
  },
  {
   "cell_type": "code",
   "execution_count": 8,
   "id": "e8b6a766",
   "metadata": {},
   "outputs": [],
   "source": [
    "class tp(keras.metrics.Metric):\n",
    "    def __init__(self, name=\"tp\", **kwargs):\n",
    "        super().__init__(name=name, **kwargs)\n",
    "        self.true_positives = self.add_weight(name=\"true_positives\", initializer=\"zeros\")\n",
    "        self.predicted_positives = self.add_weight(name=\"predicted_positives\", initializer=\"zeros\") \n",
    "        self.actual_positives = self.add_weight(name=\"actual_positives\", initializer=\"zeros\")\n",
    "        self.true_negatives = self.add_weight(name=\"true_negatives\", initializer=\"zeros\")\n",
    "        self.total_samples = self.add_weight(\n",
    "            name=\"total_samples\", initializer=\"zeros\", dtype=\"int32\"\n",
    "        )\n",
    "#         tp + tn / tp + fp + tn + fn = acc\n",
    "#         tp + fp = p.p\n",
    "#         tp + fn = a.p\n",
    "#         tn \n",
    "            \n",
    "    def update_state(self, y_true, y_pred, sample_weight=None):\n",
    "        # For binary classification, threshold predictions at 0.5\n",
    "        y_pred_classes = tf.squeeze(tf.cast(y_pred > 0.5, \"float32\"))\n",
    "        y_true = tf.squeeze(tf.cast(y_true, \"float32\"))\n",
    "        \n",
    "        \n",
    "        actual_positives = tf.reduce_sum(y_true)\n",
    "        true_positives = tf.reduce_sum(y_true * y_pred_classes)\n",
    "        predicted_positives = tf.reduce_sum(y_pred_classes)\n",
    "        # false_negatives = tf.reduce_sum(y_true.shape[0] - predicted_positives - (y_true.shape[0]-y_true))\n",
    "        # all samples - p.p - tn\n",
    "        # tn = !y_true\n",
    "        true_negatives = tf.reduce_sum((1 -y_true)*(1-y_pred_classes))\n",
    "        total_samples = tf.shape(y_pred)[0]\n",
    "        \n",
    "        self.true_positives.assign_add(true_positives)\n",
    "        self.predicted_positives.assign_add(predicted_positives)     \n",
    "        self.actual_positives.assign_add(actual_positives)     \n",
    "        self.true_negatives.assign_add(true_negatives)\n",
    "        self.total_samples.assign_add(total_samples)    \n",
    "        \n",
    "    def result(self):\n",
    "\n",
    "        #return  (self.true_positives+self.true_negatives)/(tf.cast(self.total_samples, tf.float32) + tf.keras.backend.epsilon())\n",
    "        return self.true_positives\n",
    "    \n",
    "    def reset_state(self):\n",
    "        self.true_positives.assign(0)\n",
    "        self.predicted_positives.assign(0)\n",
    "        self.actual_positives.assign(0)\n",
    "        self.true_negatives.assign(0)\n",
    "        self.total_samples.assign(0)\n",
    "                "
   ]
  },
  {
   "cell_type": "code",
   "execution_count": 9,
   "id": "2d8e1663",
   "metadata": {},
   "outputs": [],
   "source": [
    "class tn(keras.metrics.Metric):\n",
    "    def __init__(self, name=\"tn\", **kwargs):\n",
    "        super().__init__(name=name, **kwargs)\n",
    "        self.true_positives = self.add_weight(name=\"true_positives\", initializer=\"zeros\")\n",
    "        self.predicted_positives = self.add_weight(name=\"predicted_positives\", initializer=\"zeros\") \n",
    "        self.actual_positives = self.add_weight(name=\"actual_positives\", initializer=\"zeros\")\n",
    "        self.true_negatives = self.add_weight(name=\"true_negatives\", initializer=\"zeros\")\n",
    "        self.total_samples = self.add_weight(\n",
    "            name=\"total_samples\", initializer=\"zeros\", dtype=\"int32\"\n",
    "        )\n",
    "#         tp + tn / tp + fp + tn + fn = acc\n",
    "#         tp + fp = p.p\n",
    "#         tp + fn = a.p\n",
    "#         tn \n",
    "            \n",
    "    def update_state(self, y_true, y_pred, sample_weight=None):\n",
    "        # For binary classification, threshold predictions at 0.5\n",
    "        y_pred_classes = tf.squeeze(tf.cast(y_pred > 0.5, \"float32\"))\n",
    "        y_true = tf.squeeze(tf.cast(y_true, \"float32\"))\n",
    "                \n",
    "        actual_positives = tf.reduce_sum(y_true)\n",
    "        true_positives = tf.reduce_sum(y_true * y_pred_classes)\n",
    "        predicted_positives = tf.reduce_sum(y_pred_classes)\n",
    "        # false_negatives = tf.reduce_sum(y_true.shape[0] - predicted_positives - (y_true.shape[0]-y_true))\n",
    "        # all samples - p.p - tn\n",
    "        # tn = !y_true\n",
    "        true_negatives = tf.reduce_sum((1 -y_true)*(1-y_pred_classes))\n",
    "        total_samples = tf.shape(y_pred)[0]\n",
    "        \n",
    "        self.true_positives.assign_add(true_positives)\n",
    "        self.predicted_positives.assign_add(predicted_positives)     \n",
    "        self.actual_positives.assign_add(actual_positives)     \n",
    "        self.true_negatives.assign_add(true_negatives)\n",
    "        self.total_samples.assign_add(total_samples)    \n",
    "        \n",
    "    def result(self):\n",
    "\n",
    "        #return  (self.true_positives+self.true_negatives)/(tf.cast(self.total_samples, tf.float32) + tf.keras.backend.epsilon())\n",
    "        return self.true_negatives\n",
    "    \n",
    "    def reset_state(self):\n",
    "        self.true_positives.assign(0)\n",
    "        self.predicted_positives.assign(0)\n",
    "        self.actual_positives.assign(0)\n",
    "        self.true_negatives.assign(0)\n",
    "        self.total_samples.assign(0)\n",
    "                "
   ]
  },
  {
   "cell_type": "code",
   "execution_count": null,
   "id": "8c7a86a1",
   "metadata": {},
   "outputs": [],
   "source": []
  },
  {
   "cell_type": "code",
   "execution_count": 10,
   "id": "dbdbaa0f",
   "metadata": {},
   "outputs": [],
   "source": [
    "class F1Score2(keras.metrics.Metric):\n",
    "    def __init__(self, name=\"F1score_user2\", **kwargs):\n",
    "        super().__init__(name=name, **kwargs)\n",
    "        self.true_positives = self.add_weight(name=\"true_positives\", initializer=\"zeros\")\n",
    "        self.true_negatives = self.add_weight(name=\"true_negatives\", initializer=\"zeros\") \n",
    "        self.false_positives = self.add_weight(name=\"false_positives\", initializer=\"zeros\")\n",
    "        self.false_negatives = self.add_weight(name=\"false_negatives\", initializer=\"zeros\")\n",
    "            \n",
    "    def update_state(self, y_true, y_pred, sample_weight=None):\n",
    "        # For binary classification, threshold predictions at 0.5\n",
    "        y_pred_classes = tf.squeeze(tf.cast(y_pred > 0.5, \"float32\"))\n",
    "        y_true = tf.squeeze(tf.cast(y_true, \"float32\"))\n",
    "\n",
    "        true_positives = tf.reduce_sum(y_true * y_pred_classes)\n",
    "        true_negatives = tf.reduce_sum((1 -y_true)*(1-y_pred_classes))\n",
    "        false_positives = tf.reduce_sum(tf.cast(((y_pred_classes == 1) & (y_true == 0)), tf.float32))\n",
    "        false_negatives = tf.reduce_sum(tf.cast( ((y_pred_classes == 0) & (y_true == 1)), tf.float32))\n",
    "        \n",
    "        self.true_positives.assign_add(true_positives)\n",
    "        self.true_negatives.assign_add(true_negatives)     \n",
    "        self.false_positives.assign_add(false_positives)     \n",
    "        self.false_negatives.assign_add(false_negatives)     \n",
    "    \n",
    "    def result(self):\n",
    "        precision = tf.cast(self.true_positives, \"float32\")/ (tf.cast(self.true_positives, \"float32\")+ tf.cast(self.false_positives, \"float32\")+ tf.keras.backend.epsilon())\n",
    "                \n",
    "        recall = tf.cast(self.true_positives, \"float32\")/ (tf.cast(self.true_positives, \"float32\")+ tf.cast(self.false_negatives, \"float32\")+ tf.keras.backend.epsilon())\n",
    "                \n",
    "        return  (2 * recall * precision) / (recall + precision + tf.keras.backend.epsilon())\n",
    "    \n",
    "    def reset_state(self):\n",
    "        self.true_positives.assign(0)\n",
    "        self.true_negatives.assign(0)\n",
    "        self.false_positives.assign(0)\n",
    "        self.false_negatives.assign(0)      "
   ]
  },
  {
   "cell_type": "code",
   "execution_count": 11,
   "id": "86a6d301",
   "metadata": {},
   "outputs": [],
   "source": [
    "class fp2(keras.metrics.Metric):\n",
    "    def __init__(self, name=\"fp2\", **kwargs):\n",
    "        super().__init__(name=name, **kwargs)\n",
    "        self.true_positives = self.add_weight(name=\"true_positives\", initializer=\"zeros\")\n",
    "        self.true_negatives = self.add_weight(name=\"true_negatives\", initializer=\"zeros\") \n",
    "        self.false_positives = self.add_weight(name=\"false_positives\", initializer=\"zeros\")\n",
    "        self.false_negatives = self.add_weight(name=\"false_negatives\", initializer=\"zeros\")\n",
    "            \n",
    "    def update_state(self, y_true, y_pred, sample_weight=None):\n",
    "        # For binary classification, threshold predictions at 0.5\n",
    "        y_pred_classes = tf.squeeze(tf.cast(y_pred > 0.5, \"float32\"))\n",
    "        y_true = tf.squeeze(tf.cast(y_true, \"float32\"))\n",
    "\n",
    "        true_positives = tf.reduce_sum(y_true * y_pred_classes)\n",
    "        true_negatives = tf.reduce_sum((1 -y_true)*(1-y_pred_classes))\n",
    "        false_positives = tf.reduce_sum(tf.cast( ((y_pred_classes == 1) & (y_true == 0)), tf.float32))\n",
    "        false_negatives = tf.reduce_sum(tf.cast( ((y_pred_classes == 0) & (y_true == 1)), tf.float32))\n",
    "        \n",
    "        self.true_positives.assign_add(true_positives)\n",
    "        self.true_negatives.assign_add(true_negatives)     \n",
    "        self.false_positives.assign_add(false_positives)     \n",
    "        self.false_negatives.assign_add(false_negatives)\n",
    "    \n",
    "    def result(self):\n",
    "        return  self.false_positives\n",
    "    \n",
    "    def reset_state(self):\n",
    "        self.true_positives.assign(0)\n",
    "        self.true_negatives.assign(0)\n",
    "        self.false_positives.assign(0)\n",
    "        self.false_negatives.assign(0)      "
   ]
  },
  {
   "cell_type": "code",
   "execution_count": 12,
   "id": "c38869fc",
   "metadata": {},
   "outputs": [],
   "source": [
    "class fn2(keras.metrics.Metric):\n",
    "    def __init__(self, name=\"fn2\", **kwargs):\n",
    "        super().__init__(name=name, **kwargs)\n",
    "        self.true_positives = self.add_weight(name=\"true_positives\", initializer=\"zeros\")\n",
    "        self.true_negatives = self.add_weight(name=\"true_negatives\", initializer=\"zeros\") \n",
    "        self.false_positives = self.add_weight(name=\"false_positives\", initializer=\"zeros\")\n",
    "        self.false_negatives = self.add_weight(name=\"false_negatives\", initializer=\"zeros\")\n",
    "            \n",
    "    def update_state(self, y_true, y_pred, sample_weight=None):\n",
    "        # For binary classification, threshold predictions at 0.5\n",
    "        y_pred_classes = tf.squeeze(tf.cast(y_pred > 0.5, \"float32\"))\n",
    "        y_true = tf.squeeze(tf.cast(y_true, \"float32\"))\n",
    "\n",
    "        true_positives = tf.reduce_sum(y_true * y_pred_classes)\n",
    "        true_negatives = tf.reduce_sum((1 -y_true)*(1-y_pred_classes))\n",
    "        false_positives = tf.reduce_sum(tf.cast( ((y_pred_classes == 1) & (y_true == 0)), tf.float32))\n",
    "        false_negatives = tf.reduce_sum(tf.cast( ((y_pred_classes == 0) & (y_true == 1)), tf.float32))\n",
    "        \n",
    "        self.true_positives.assign_add(true_positives)\n",
    "        self.true_negatives.assign_add(true_negatives)     \n",
    "        self.false_positives.assign_add(false_positives)     \n",
    "        self.false_negatives.assign_add(false_negatives)     \n",
    "    \n",
    "    def result(self):\n",
    "\n",
    "        return  self.false_negatives\n",
    "    \n",
    "    def reset_state(self):\n",
    "        self.true_positives.assign(0)\n",
    "        self.true_negatives.assign(0)\n",
    "        self.false_positives.assign(0)\n",
    "        self.false_negatives.assign(0)      "
   ]
  },
  {
   "cell_type": "code",
   "execution_count": 13,
   "id": "fc68d087",
   "metadata": {},
   "outputs": [],
   "source": [
    "# define model\n",
    "model_new = build_model()"
   ]
  },
  {
   "cell_type": "code",
   "execution_count": 14,
   "id": "38479876",
   "metadata": {},
   "outputs": [],
   "source": [
    "model_new.compile(optimizer=\"rmsprop\",\n",
    "                  loss=\"binary_crossentropy\",\n",
    "                 metrics=[\"accuracy\", acc_user(), F1Score(), F1Score2(), tp(), tn(), fp2(), fn2()])"
   ]
  },
  {
   "cell_type": "code",
   "execution_count": null,
   "id": "94602310",
   "metadata": {},
   "outputs": [],
   "source": [
    "history_new = model_new.fit(\n",
    "    train_data, train_labels,\n",
    "    epochs=20, batch_size=128, validation_split=0.4\n",
    ")"
   ]
  },
  {
   "cell_type": "code",
   "execution_count": 15,
   "id": "f21269cd",
   "metadata": {},
   "outputs": [
    {
     "name": "stdout",
     "output_type": "stream",
     "text": [
      "Epoch 1/20\n",
      "235/235 [==============================] - 7s 12ms/step - loss: 0.4110 - accuracy: 0.8413 - acc_user: 0.8413 - F1score_user: 0.8391 - F1score_user2: 0.8391 - tp: 6208.0000 - tn: 6412.0000 - fp2: 1055.0000 - fn2: 1325.0000 - val_loss: 0.2945 - val_accuracy: 0.8883 - val_acc_user: 0.8883 - val_F1score_user: 0.8864 - val_F1score_user2: 0.8864 - val_tp: 4357.0000 - val_tn: 4526.0000 - val_fp2: 507.0000 - val_fn2: 610.0000\n",
      "Epoch 2/20\n",
      "235/235 [==============================] - 2s 7ms/step - loss: 0.2237 - accuracy: 0.9196 - acc_user: 0.9196 - F1score_user: 0.9203 - F1score_user2: 0.9203 - tp: 6966.0000 - tn: 6828.0000 - fp2: 639.0000 - fn2: 567.0000 - val_loss: 0.2985 - val_accuracy: 0.8785 - val_acc_user: 0.8785 - val_F1score_user: 0.8855 - val_F1score_user2: 0.8855 - val_tp: 4699.0000 - val_tn: 4086.0000 - val_fp2: 947.0000 - val_fn2: 268.0000\n",
      "Epoch 3/20\n",
      "235/235 [==============================] - 1s 6ms/step - loss: 0.1698 - accuracy: 0.9392 - acc_user: 0.9392 - F1score_user: 0.9398 - F1score_user2: 0.9398 - tp: 7120.0000 - tn: 6968.0000 - fp2: 499.0000 - fn2: 413.0000 - val_loss: 0.2874 - val_accuracy: 0.8885 - val_acc_user: 0.8885 - val_F1score_user: 0.8856 - val_F1score_user2: 0.8856 - val_tp: 4317.0000 - val_tn: 4568.0000 - val_fp2: 465.0000 - val_fn2: 650.0000\n",
      "Epoch 4/20\n",
      "235/235 [==============================] - 1s 6ms/step - loss: 0.1375 - accuracy: 0.9518 - acc_user: 0.9518 - F1score_user: 0.9521 - F1score_user2: 0.9521 - tp: 7191.0000 - tn: 7086.0000 - fp2: 381.0000 - fn2: 342.0000 - val_loss: 0.3072 - val_accuracy: 0.8860 - val_acc_user: 0.8860 - val_F1score_user: 0.8846 - val_F1score_user2: 0.8846 - val_tp: 4369.0000 - val_tn: 4491.0000 - val_fp2: 542.0000 - val_fn2: 598.0000\n",
      "Epoch 5/20\n",
      "235/235 [==============================] - 2s 7ms/step - loss: 0.1147 - accuracy: 0.9609 - acc_user: 0.9609 - F1score_user: 0.9611 - F1score_user2: 0.9611 - tp: 7260.0000 - tn: 7153.0000 - fp2: 314.0000 - fn2: 273.0000 - val_loss: 0.3362 - val_accuracy: 0.8833 - val_acc_user: 0.8833 - val_F1score_user: 0.8856 - val_F1score_user2: 0.8856 - val_tp: 4516.0000 - val_tn: 4317.0000 - val_fp2: 716.0000 - val_fn2: 451.0000\n",
      "Epoch 6/20\n",
      "235/235 [==============================] - 2s 6ms/step - loss: 0.0977 - accuracy: 0.9664 - acc_user: 0.9664 - F1score_user: 0.9666 - F1score_user2: 0.9666 - tp: 7296.0000 - tn: 7200.0000 - fp2: 267.0000 - fn2: 237.0000 - val_loss: 0.3732 - val_accuracy: 0.8782 - val_acc_user: 0.8782 - val_F1score_user: 0.8752 - val_F1score_user2: 0.8752 - val_tp: 4272.0000 - val_tn: 4510.0000 - val_fp2: 523.0000 - val_fn2: 695.0000\n",
      "Epoch 7/20\n",
      "235/235 [==============================] - 2s 6ms/step - loss: 0.0837 - accuracy: 0.9711 - acc_user: 0.9711 - F1score_user: 0.9713 - F1score_user2: 0.9713 - tp: 7330.0000 - tn: 7237.0000 - fp2: 230.0000 - fn2: 203.0000 - val_loss: 0.4084 - val_accuracy: 0.8761 - val_acc_user: 0.8761 - val_F1score_user: 0.8723 - val_F1score_user2: 0.8723 - val_tp: 4232.0000 - val_tn: 4529.0000 - val_fp2: 504.0000 - val_fn2: 735.0000\n",
      "Epoch 8/20\n",
      "235/235 [==============================] - 2s 8ms/step - loss: 0.0733 - accuracy: 0.9759 - acc_user: 0.9759 - F1score_user: 0.9761 - F1score_user2: 0.9761 - tp: 7362.0000 - tn: 7277.0000 - fp2: 190.0000 - fn2: 171.0000 - val_loss: 0.4306 - val_accuracy: 0.8743 - val_acc_user: 0.8743 - val_F1score_user: 0.8768 - val_F1score_user2: 0.8768 - val_tp: 4474.0000 - val_tn: 4269.0000 - val_fp2: 764.0000 - val_fn2: 493.0000\n",
      "Epoch 9/20\n",
      "235/235 [==============================] - 1s 6ms/step - loss: 0.0641 - accuracy: 0.9781 - acc_user: 0.9781 - F1score_user: 0.9782 - F1score_user2: 0.9782 - tp: 7381.0000 - tn: 7290.0000 - fp2: 177.0000 - fn2: 152.0000 - val_loss: 0.4647 - val_accuracy: 0.8729 - val_acc_user: 0.8729 - val_F1score_user: 0.8748 - val_F1score_user2: 0.8748 - val_tp: 4440.0000 - val_tn: 4289.0000 - val_fp2: 744.0000 - val_fn2: 527.0000\n",
      "Epoch 10/20\n",
      "235/235 [==============================] - 2s 7ms/step - loss: 0.0552 - accuracy: 0.9822 - acc_user: 0.9822 - F1score_user: 0.9823 - F1score_user2: 0.9823 - tp: 7406.0000 - tn: 7327.0000 - fp2: 140.0000 - fn2: 127.0000 - val_loss: 0.5312 - val_accuracy: 0.8630 - val_acc_user: 0.8630 - val_F1score_user: 0.8692 - val_F1score_user2: 0.8692 - val_tp: 4551.0000 - val_tn: 4079.0000 - val_fp2: 954.0000 - val_fn2: 416.0000\n",
      "Epoch 11/20\n",
      "235/235 [==============================] - 2s 7ms/step - loss: 0.0482 - accuracy: 0.9845 - acc_user: 0.9845 - F1score_user: 0.9845 - F1score_user2: 0.9845 - tp: 7423.0000 - tn: 7344.0000 - fp2: 123.0000 - fn2: 110.0000 - val_loss: 0.5427 - val_accuracy: 0.8682 - val_acc_user: 0.8682 - val_F1score_user: 0.8685 - val_F1score_user2: 0.8685 - val_tp: 4353.0000 - val_tn: 4329.0000 - val_fp2: 704.0000 - val_fn2: 614.0000\n",
      "Epoch 12/20\n",
      "235/235 [==============================] - 2s 7ms/step - loss: 0.0421 - accuracy: 0.9862 - acc_user: 0.9862 - F1score_user: 0.9863 - F1score_user2: 0.9863 - tp: 7435.0000 - tn: 7358.0000 - fp2: 109.0000 - fn2: 98.0000 - val_loss: 0.5754 - val_accuracy: 0.8669 - val_acc_user: 0.8669 - val_F1score_user: 0.8685 - val_F1score_user2: 0.8685 - val_tp: 4396.0000 - val_tn: 4273.0000 - val_fp2: 760.0000 - val_fn2: 571.0000\n",
      "Epoch 13/20\n",
      "235/235 [==============================] - 2s 7ms/step - loss: 0.0371 - accuracy: 0.9883 - acc_user: 0.9883 - F1score_user: 0.9884 - F1score_user2: 0.9884 - tp: 7443.0000 - tn: 7382.0000 - fp2: 85.0000 - fn2: 90.0000 - val_loss: 0.6363 - val_accuracy: 0.8661 - val_acc_user: 0.8661 - val_F1score_user: 0.8652 - val_F1score_user2: 0.8652 - val_tp: 4296.0000 - val_tn: 4365.0000 - val_fp2: 668.0000 - val_fn2: 671.0000\n",
      "Epoch 14/20\n",
      "235/235 [==============================] - 2s 6ms/step - loss: 0.0309 - accuracy: 0.9907 - acc_user: 0.9907 - F1score_user: 0.9907 - F1score_user2: 0.9907 - tp: 7466.0000 - tn: 7394.0000 - fp2: 73.0000 - fn2: 67.0000 - val_loss: 0.6857 - val_accuracy: 0.8646 - val_acc_user: 0.8646 - val_F1score_user: 0.8632 - val_F1score_user2: 0.8632 - val_tp: 4273.0000 - val_tn: 4373.0000 - val_fp2: 660.0000 - val_fn2: 694.0000\n",
      "Epoch 15/20\n",
      "235/235 [==============================] - 2s 8ms/step - loss: 0.0271 - accuracy: 0.9913 - acc_user: 0.9913 - F1score_user: 0.9913 - F1score_user2: 0.9913 - tp: 7473.0000 - tn: 7396.0000 - fp2: 71.0000 - fn2: 60.0000 - val_loss: 0.7165 - val_accuracy: 0.8617 - val_acc_user: 0.8617 - val_F1score_user: 0.8627 - val_F1score_user2: 0.8627 - val_tp: 4346.0000 - val_tn: 4271.0000 - val_fp2: 762.0000 - val_fn2: 621.0000\n",
      "Epoch 16/20\n",
      "235/235 [==============================] - 2s 7ms/step - loss: 0.0234 - accuracy: 0.9931 - acc_user: 0.9931 - F1score_user: 0.9931 - F1score_user2: 0.9931 - tp: 7484.0000 - tn: 7412.0000 - fp2: 55.0000 - fn2: 49.0000 - val_loss: 0.8084 - val_accuracy: 0.8586 - val_acc_user: 0.8586 - val_F1score_user: 0.8547 - val_F1score_user2: 0.8547 - val_tp: 4158.0000 - val_tn: 4428.0000 - val_fp2: 605.0000 - val_fn2: 809.0000\n",
      "Epoch 17/20\n",
      "235/235 [==============================] - 2s 6ms/step - loss: 0.0201 - accuracy: 0.9941 - acc_user: 0.9941 - F1score_user: 0.9942 - F1score_user2: 0.9942 - tp: 7492.0000 - tn: 7420.0000 - fp2: 47.0000 - fn2: 41.0000 - val_loss: 0.8267 - val_accuracy: 0.8558 - val_acc_user: 0.8558 - val_F1score_user: 0.8597 - val_F1score_user2: 0.8597 - val_tp: 4419.0000 - val_tn: 4139.0000 - val_fp2: 894.0000 - val_fn2: 548.0000\n",
      "Epoch 18/20\n",
      "235/235 [==============================] - 2s 7ms/step - loss: 0.0170 - accuracy: 0.9947 - acc_user: 0.9947 - F1score_user: 0.9947 - F1score_user2: 0.9947 - tp: 7496.0000 - tn: 7424.0000 - fp2: 43.0000 - fn2: 37.0000 - val_loss: 0.8766 - val_accuracy: 0.8595 - val_acc_user: 0.8595 - val_F1score_user: 0.8608 - val_F1score_user2: 0.8608 - val_tp: 4343.0000 - val_tn: 4252.0000 - val_fp2: 781.0000 - val_fn2: 624.0000\n",
      "Epoch 19/20\n",
      "235/235 [==============================] - 2s 7ms/step - loss: 0.0144 - accuracy: 0.9953 - acc_user: 0.9953 - F1score_user: 0.9954 - F1score_user2: 0.9954 - tp: 7498.0000 - tn: 7432.0000 - fp2: 35.0000 - fn2: 35.0000 - val_loss: 0.9401 - val_accuracy: 0.8567 - val_acc_user: 0.8567 - val_F1score_user: 0.8580 - val_F1score_user2: 0.8580 - val_tp: 4331.0000 - val_tn: 4236.0000 - val_fp2: 797.0000 - val_fn2: 636.0000\n",
      "Epoch 20/20\n"
     ]
    },
    {
     "name": "stdout",
     "output_type": "stream",
     "text": [
      "235/235 [==============================] - 2s 8ms/step - loss: 0.0120 - accuracy: 0.9963 - acc_user: 0.9963 - F1score_user: 0.9964 - F1score_user2: 0.9964 - tp: 7510.0000 - tn: 7435.0000 - fp2: 32.0000 - fn2: 23.0000 - val_loss: 0.9875 - val_accuracy: 0.8525 - val_acc_user: 0.8525 - val_F1score_user: 0.8554 - val_F1score_user2: 0.8554 - val_tp: 4364.0000 - val_tn: 4161.0000 - val_fp2: 872.0000 - val_fn2: 603.0000\n"
     ]
    }
   ],
   "source": [
    "history_new = model_new.fit(\n",
    "    train_data, train_labels,\n",
    "    epochs=20, batch_size=64, validation_split=0.4\n",
    ")"
   ]
  },
  {
   "cell_type": "code",
   "execution_count": 15,
   "id": "b188975c",
   "metadata": {
    "scrolled": false
   },
   "outputs": [
    {
     "name": "stdout",
     "output_type": "stream",
     "text": [
      "Epoch 1/20\n",
      "3750/3750 [==============================] - 13s 3ms/step - loss: 0.4382 - accuracy: 0.8195 - acc_user: 0.8195 - F1score_user: 0.8191 - F1score_user2: 0.8191 - tp: 6127.0000 - tn: 6166.0000 - fp2: 1301.0000 - fn2: 1406.0000 - val_loss: 0.3456 - val_accuracy: 0.8687 - val_acc_user: 0.8687 - val_F1score_user: 0.8711 - val_F1score_user2: 0.8711 - val_tp: 4436.0000 - val_tn: 4251.0000 - val_fp2: 782.0000 - val_fn2: 531.0000\n",
      "Epoch 2/20\n",
      "3750/3750 [==============================] - 11s 3ms/step - loss: 0.2762 - accuracy: 0.8960 - acc_user: 0.8960 - F1score_user: 0.8982 - F1score_user2: 0.8982 - tp: 6880.0000 - tn: 6560.0000 - fp2: 907.0000 - fn2: 653.0000 - val_loss: 0.3137 - val_accuracy: 0.8837 - val_acc_user: 0.8837 - val_F1score_user: 0.8864 - val_F1score_user2: 0.8864 - val_tp: 4539.0000 - val_tn: 4298.0000 - val_fp2: 735.0000 - val_fn2: 428.0000\n",
      "Epoch 3/20\n",
      "3750/3750 [==============================] - 10s 3ms/step - loss: 0.2314 - accuracy: 0.9163 - acc_user: 0.9163 - F1score_user: 0.9178 - F1score_user2: 0.9178 - tp: 7012.0000 - tn: 6732.0000 - fp2: 735.0000 - fn2: 521.0000 - val_loss: 0.3135 - val_accuracy: 0.8893 - val_acc_user: 0.8893 - val_F1score_user: 0.8890 - val_F1score_user2: 0.8890 - val_tp: 4432.0000 - val_tn: 4461.0000 - val_fp2: 572.0000 - val_fn2: 535.0000\n",
      "Epoch 4/20\n",
      "3750/3750 [==============================] - 10s 3ms/step - loss: 0.2098 - accuracy: 0.9256 - acc_user: 0.9256 - F1score_user: 0.9267 - F1score_user2: 0.9267 - tp: 7058.0000 - tn: 6826.0000 - fp2: 641.0000 - fn2: 475.0000 - val_loss: 0.3238 - val_accuracy: 0.8912 - val_acc_user: 0.8912 - val_F1score_user: 0.8907 - val_F1score_user2: 0.8907 - val_tp: 4433.0000 - val_tn: 4479.0000 - val_fp2: 554.0000 - val_fn2: 534.0000\n",
      "Epoch 5/20\n",
      "3750/3750 [==============================] - 10s 3ms/step - loss: 0.1975 - accuracy: 0.9324 - acc_user: 0.9324 - F1score_user: 0.9334 - F1score_user2: 0.9334 - tp: 7104.0000 - tn: 6882.0000 - fp2: 585.0000 - fn2: 429.0000 - val_loss: 0.3371 - val_accuracy: 0.8883 - val_acc_user: 0.8883 - val_F1score_user: 0.8909 - val_F1score_user2: 0.8909 - val_tp: 4560.0000 - val_tn: 4323.0000 - val_fp2: 710.0000 - val_fn2: 407.0000\n",
      "Epoch 6/20\n",
      "3750/3750 [==============================] - 13s 3ms/step - loss: 0.1892 - accuracy: 0.9355 - acc_user: 0.9355 - F1score_user: 0.9363 - F1score_user2: 0.9363 - tp: 7104.0000 - tn: 6929.0000 - fp2: 538.0000 - fn2: 429.0000 - val_loss: 0.3436 - val_accuracy: 0.8898 - val_acc_user: 0.8898 - val_F1score_user: 0.8901 - val_F1score_user2: 0.8901 - val_tp: 4461.0000 - val_tn: 4437.0000 - val_fp2: 596.0000 - val_fn2: 506.0000\n",
      "Epoch 7/20\n",
      "3750/3750 [==============================] - 11s 3ms/step - loss: 0.1825 - accuracy: 0.9405 - acc_user: 0.9405 - F1score_user: 0.9412 - F1score_user2: 0.9412 - tp: 7145.0000 - tn: 6962.0000 - fp2: 505.0000 - fn2: 388.0000 - val_loss: 0.3658 - val_accuracy: 0.8885 - val_acc_user: 0.8885 - val_F1score_user: 0.8878 - val_F1score_user2: 0.8878 - val_tp: 4412.0000 - val_tn: 4473.0000 - val_fp2: 560.0000 - val_fn2: 555.0000\n",
      "Epoch 8/20\n",
      "3750/3750 [==============================] - 12s 3ms/step - loss: 0.1766 - accuracy: 0.9425 - acc_user: 0.9425 - F1score_user: 0.9431 - F1score_user2: 0.9431 - tp: 7158.0000 - tn: 6979.0000 - fp2: 488.0000 - fn2: 375.0000 - val_loss: 0.3740 - val_accuracy: 0.8879 - val_acc_user: 0.8879 - val_F1score_user: 0.8884 - val_F1score_user2: 0.8884 - val_tp: 4464.0000 - val_tn: 4415.0000 - val_fp2: 618.0000 - val_fn2: 503.0000\n",
      "Epoch 9/20\n",
      "3750/3750 [==============================] - 13s 3ms/step - loss: 0.1728 - accuracy: 0.9454 - acc_user: 0.9454 - F1score_user: 0.9461 - F1score_user2: 0.9461 - tp: 7181.0000 - tn: 7000.0000 - fp2: 467.0000 - fn2: 352.0000 - val_loss: 0.3961 - val_accuracy: 0.8876 - val_acc_user: 0.8876 - val_F1score_user: 0.8859 - val_F1score_user2: 0.8859 - val_tp: 4364.0000 - val_tn: 4512.0000 - val_fp2: 521.0000 - val_fn2: 603.0000\n",
      "Epoch 10/20\n",
      "3750/3750 [==============================] - 13s 3ms/step - loss: 0.1698 - accuracy: 0.9465 - acc_user: 0.9465 - F1score_user: 0.9472 - F1score_user2: 0.9472 - tp: 7201.0000 - tn: 6996.0000 - fp2: 471.0000 - fn2: 332.0000 - val_loss: 0.3995 - val_accuracy: 0.8857 - val_acc_user: 0.8857 - val_F1score_user: 0.8858 - val_F1score_user2: 0.8858 - val_tp: 4435.0000 - val_tn: 4422.0000 - val_fp2: 611.0000 - val_fn2: 532.0000\n",
      "Epoch 11/20\n",
      "3750/3750 [==============================] - 10s 3ms/step - loss: 0.1664 - accuracy: 0.9479 - acc_user: 0.9479 - F1score_user: 0.9486 - F1score_user2: 0.9486 - tp: 7207.0000 - tn: 7012.0000 - fp2: 455.0000 - fn2: 326.0000 - val_loss: 0.4124 - val_accuracy: 0.8842 - val_acc_user: 0.8842 - val_F1score_user: 0.8869 - val_F1score_user2: 0.8869 - val_tp: 4539.0000 - val_tn: 4303.0000 - val_fp2: 730.0000 - val_fn2: 428.0000\n",
      "Epoch 12/20\n",
      "3750/3750 [==============================] - 13s 3ms/step - loss: 0.1632 - accuracy: 0.9498 - acc_user: 0.9498 - F1score_user: 0.9505 - F1score_user2: 0.9505 - tp: 7225.0000 - tn: 7022.0000 - fp2: 445.0000 - fn2: 308.0000 - val_loss: 0.4503 - val_accuracy: 0.8846 - val_acc_user: 0.8846 - val_F1score_user: 0.8828 - val_F1score_user2: 0.8828 - val_tp: 4346.0000 - val_tn: 4500.0000 - val_fp2: 533.0000 - val_fn2: 621.0000\n",
      "Epoch 13/20\n",
      "3750/3750 [==============================] - 13s 3ms/step - loss: 0.1592 - accuracy: 0.9504 - acc_user: 0.9504 - F1score_user: 0.9511 - F1score_user2: 0.9511 - tp: 7239.0000 - tn: 7017.0000 - fp2: 450.0000 - fn2: 294.0000 - val_loss: 0.4472 - val_accuracy: 0.8836 - val_acc_user: 0.8836 - val_F1score_user: 0.8859 - val_F1score_user2: 0.8859 - val_tp: 4517.0000 - val_tn: 4319.0000 - val_fp2: 714.0000 - val_fn2: 450.0000\n",
      "Epoch 14/20\n",
      "3750/3750 [==============================] - 13s 3ms/step - loss: 0.1592 - accuracy: 0.9523 - acc_user: 0.9523 - F1score_user: 0.9530 - F1score_user2: 0.9530 - tp: 7247.0000 - tn: 7038.0000 - fp2: 429.0000 - fn2: 286.0000 - val_loss: 0.4644 - val_accuracy: 0.8837 - val_acc_user: 0.8837 - val_F1score_user: 0.8831 - val_F1score_user2: 0.8831 - val_tp: 4391.0000 - val_tn: 4446.0000 - val_fp2: 587.0000 - val_fn2: 576.0000\n",
      "Epoch 15/20\n",
      "3750/3750 [==============================] - 10s 3ms/step - loss: 0.1565 - accuracy: 0.9539 - acc_user: 0.9539 - F1score_user: 0.9545 - F1score_user2: 0.9545 - tp: 7252.0000 - tn: 7057.0000 - fp2: 410.0000 - fn2: 281.0000 - val_loss: 0.5761 - val_accuracy: 0.8806 - val_acc_user: 0.8806 - val_F1score_user: 0.8774 - val_F1score_user2: 0.8774 - val_tp: 4273.0000 - val_tn: 4533.0000 - val_fp2: 500.0000 - val_fn2: 694.0000\n",
      "Epoch 16/20\n",
      "3750/3750 [==============================] - 11s 3ms/step - loss: 0.1545 - accuracy: 0.9547 - acc_user: 0.9547 - F1score_user: 0.9553 - F1score_user2: 0.9553 - tp: 7258.0000 - tn: 7062.0000 - fp2: 405.0000 - fn2: 275.0000 - val_loss: 0.5927 - val_accuracy: 0.8805 - val_acc_user: 0.8805 - val_F1score_user: 0.8776 - val_F1score_user2: 0.8776 - val_tp: 4284.0000 - val_tn: 4521.0000 - val_fp2: 512.0000 - val_fn2: 683.0000\n",
      "Epoch 17/20\n",
      "3750/3750 [==============================] - 13s 3ms/step - loss: 0.1536 - accuracy: 0.9555 - acc_user: 0.9555 - F1score_user: 0.9560 - F1score_user2: 0.9560 - tp: 7265.0000 - tn: 7067.0000 - fp2: 400.0000 - fn2: 268.0000 - val_loss: 0.5446 - val_accuracy: 0.8838 - val_acc_user: 0.8838 - val_F1score_user: 0.8855 - val_F1score_user2: 0.8855 - val_tp: 4493.0000 - val_tn: 4345.0000 - val_fp2: 688.0000 - val_fn2: 474.0000\n",
      "Epoch 18/20\n",
      "3750/3750 [==============================] - 12s 3ms/step - loss: 0.1531 - accuracy: 0.9567 - acc_user: 0.9567 - F1score_user: 0.9573 - F1score_user2: 0.9573 - tp: 7274.0000 - tn: 7077.0000 - fp2: 390.0000 - fn2: 259.0000 - val_loss: 0.6336 - val_accuracy: 0.8788 - val_acc_user: 0.8788 - val_F1score_user: 0.8766 - val_F1score_user2: 0.8766 - val_tp: 4305.0000 - val_tn: 4483.0000 - val_fp2: 550.0000 - val_fn2: 662.0000\n",
      "Epoch 19/20\n",
      "3750/3750 [==============================] - 13s 3ms/step - loss: 0.1501 - accuracy: 0.9584 - acc_user: 0.9584 - F1score_user: 0.9589 - F1score_user2: 0.9589 - tp: 7287.0000 - tn: 7089.0000 - fp2: 378.0000 - fn2: 246.0000 - val_loss: 0.6078 - val_accuracy: 0.8803 - val_acc_user: 0.8803 - val_F1score_user: 0.8804 - val_F1score_user2: 0.8804 - val_tp: 4404.0000 - val_tn: 4399.0000 - val_fp2: 634.0000 - val_fn2: 563.0000\n"
     ]
    },
    {
     "name": "stdout",
     "output_type": "stream",
     "text": [
      "Epoch 20/20\n",
      "3750/3750 [==============================] - 11s 3ms/step - loss: 0.1493 - accuracy: 0.9591 - acc_user: 0.9591 - F1score_user: 0.9596 - F1score_user2: 0.9596 - tp: 7289.0000 - tn: 7097.0000 - fp2: 370.0000 - fn2: 244.0000 - val_loss: 0.6553 - val_accuracy: 0.8780 - val_acc_user: 0.8780 - val_F1score_user: 0.8795 - val_F1score_user2: 0.8795 - val_tp: 4453.0000 - val_tn: 4327.0000 - val_fp2: 706.0000 - val_fn2: 514.0000\n"
     ]
    }
   ],
   "source": [
    "# history_new = model_new.fit(\n",
    "#     train_data, train_labels,\n",
    "#     epochs=20, batch_size=4, validation_split=0.4\n",
    "# )"
   ]
  },
  {
   "cell_type": "code",
   "execution_count": 16,
   "id": "76a9cce3",
   "metadata": {},
   "outputs": [
    {
     "data": {
      "text/plain": [
       "3"
      ]
     },
     "execution_count": 16,
     "metadata": {},
     "output_type": "execute_result"
    }
   ],
   "source": [
    "a = tf.constant([[0.5],[1],[1]], dtype=\"float32\")\n",
    "a.shape[0]"
   ]
  },
  {
   "cell_type": "code",
   "execution_count": 17,
   "id": "6b01878e",
   "metadata": {},
   "outputs": [
    {
     "data": {
      "text/plain": [
       "<tf.Tensor: shape=(3, 1), dtype=float32, numpy=\n",
       "array([[0.5],\n",
       "       [0. ],\n",
       "       [0. ]], dtype=float32)>"
      ]
     },
     "execution_count": 17,
     "metadata": {},
     "output_type": "execute_result"
    }
   ],
   "source": [
    "1 - a"
   ]
  },
  {
   "cell_type": "code",
   "execution_count": 18,
   "id": "0ba2906b",
   "metadata": {},
   "outputs": [],
   "source": [
    "s = tf.reduce_sum(a)"
   ]
  },
  {
   "cell_type": "code",
   "execution_count": 19,
   "id": "19960825",
   "metadata": {},
   "outputs": [
    {
     "data": {
      "text/plain": [
       "<tf.Tensor: shape=(), dtype=float32, numpy=2.5>"
      ]
     },
     "execution_count": 19,
     "metadata": {},
     "output_type": "execute_result"
    }
   ],
   "source": [
    "s"
   ]
  },
  {
   "cell_type": "code",
   "execution_count": 20,
   "id": "54cba326",
   "metadata": {},
   "outputs": [
    {
     "data": {
      "text/plain": [
       "<tf.Tensor: shape=(7,), dtype=int32, numpy=array([0, 1, 0, 1, 1, 0, 0], dtype=int32)>"
      ]
     },
     "execution_count": 20,
     "metadata": {},
     "output_type": "execute_result"
    }
   ],
   "source": [
    "b = tf.constant([0, 1, 0, 1, 1, 1, 0])\n",
    "c = tf.constant([0, 1, 1, 1, 1, 0, 1])\n",
    "\n",
    "b & c"
   ]
  },
  {
   "cell_type": "code",
   "execution_count": 21,
   "id": "99892f8a",
   "metadata": {},
   "outputs": [
    {
     "data": {
      "text/plain": [
       "<tf.Tensor: shape=(7,), dtype=bool, numpy=array([False,  True, False,  True,  True, False, False])>"
      ]
     },
     "execution_count": 21,
     "metadata": {},
     "output_type": "execute_result"
    }
   ],
   "source": [
    "d = tf.constant([False, True, False, True, True, True, False], dtype=bool)\n",
    "e = tf.constant([False, True, True, True, True, False, True], dtype=bool)\n",
    "d & e"
   ]
  },
  {
   "cell_type": "code",
   "execution_count": 22,
   "id": "a4514975",
   "metadata": {},
   "outputs": [
    {
     "data": {
      "text/plain": [
       "<tf.Tensor: shape=(7,), dtype=bool, numpy=array([False,  True, False,  True,  True, False, False])>"
      ]
     },
     "execution_count": 22,
     "metadata": {},
     "output_type": "execute_result"
    }
   ],
   "source": [
    "#tf.reduce_sum(tf.cast( ((y_pred_classes == 1) and (y_true == 0)), tf.float32))\n",
    "d & e"
   ]
  },
  {
   "cell_type": "code",
   "execution_count": 23,
   "id": "6f54e976",
   "metadata": {},
   "outputs": [
    {
     "data": {
      "text/plain": [
       "<tf.Tensor: shape=(7,), dtype=bool, numpy=array([False,  True,  True,  True,  True, False,  True])>"
      ]
     },
     "execution_count": 23,
     "metadata": {},
     "output_type": "execute_result"
    }
   ],
   "source": [
    "(c == 1) "
   ]
  },
  {
   "cell_type": "code",
   "execution_count": 24,
   "id": "e09e30f3",
   "metadata": {},
   "outputs": [
    {
     "data": {
      "text/plain": [
       "<tf.Tensor: shape=(7,), dtype=bool, numpy=array([ True, False,  True, False, False, False,  True])>"
      ]
     },
     "execution_count": 24,
     "metadata": {},
     "output_type": "execute_result"
    }
   ],
   "source": [
    "(b == 0)"
   ]
  },
  {
   "cell_type": "code",
   "execution_count": 25,
   "id": "222375a2",
   "metadata": {},
   "outputs": [
    {
     "data": {
      "text/plain": [
       "<tf.Tensor: shape=(7,), dtype=bool, numpy=array([False, False,  True, False, False, False,  True])>"
      ]
     },
     "execution_count": 25,
     "metadata": {},
     "output_type": "execute_result"
    }
   ],
   "source": [
    "(c == 1) & (b == 0)"
   ]
  },
  {
   "cell_type": "code",
   "execution_count": 1,
   "id": "934ca537",
   "metadata": {
    "scrolled": false
   },
   "outputs": [
    {
     "name": "stdout",
     "output_type": "stream",
     "text": [
      "Package                       Version\n",
      "----------------------------- ------------------\n",
      "absl-py                       0.15.0\n",
      "aiohttp                       3.8.1\n",
      "aiosignal                     1.2.0\n",
      "albumentations                1.1.0\n",
      "antlr4-python3-runtime        4.8\n",
      "anyio                         3.5.0\n",
      "appdirs                       1.4.4\n",
      "argon2-cffi                   21.3.0\n",
      "argon2-cffi-bindings          21.2.0\n",
      "asttokens                     2.0.5\n",
      "astunparse                    1.6.3\n",
      "async-generator               1.10\n",
      "async-timeout                 4.0.2\n",
      "attrs                         21.4.0\n",
      "audioread                     2.1.9\n",
      "backcall                      0.2.0\n",
      "backports.functools-lru-cache 1.6.4\n",
      "beautifulsoup4                4.6.0\n",
      "black                         22.1.0\n",
      "bleach                        4.1.0\n",
      "branca                        0.4.2\n",
      "brotlipy                      0.7.0\n",
      "cachetools                    5.0.0\n",
      "certifi                       2021.10.8\n",
      "cffi                          1.15.0\n",
      "chardet                       3.0.4\n",
      "charset-normalizer            2.0.12\n",
      "clang                         5.0\n",
      "click                         8.0.3\n",
      "click-plugins                 1.1.1\n",
      "cligj                         0.7.2\n",
      "cloudpickle                   2.0.0\n",
      "cmake                         3.21.3\n",
      "colorama                      0.4.4\n",
      "conda                         4.11.0\n",
      "conda-build                   3.21.8\n",
      "conda-package-handling        1.7.3\n",
      "cryptography                  36.0.1\n",
      "cssselect                     1.1.0\n",
      "customized-konlpy             0.0.64\n",
      "cycler                        0.11.0\n",
      "Cython                        0.29.28\n",
      "dataclasses                   0.6\n",
      "datasets                      1.14.0\n",
      "debugpy                       1.5.1\n",
      "decorator                     4.4.2\n",
      "defusedxml                    0.7.1\n",
      "delayed                       0.11.0b1\n",
      "Deprecated                    1.2.13\n",
      "dill                          0.3.4\n",
      "dlib                          19.22.1\n",
      "docutils                      0.18.1\n",
      "editdistance                  0.6.0\n",
      "efficientnet                  1.0.0\n",
      "efficientnet-pytorch          0.7.1\n",
      "entrypoints                   0.4\n",
      "essential-generators          1.0\n",
      "executing                     0.8.3\n",
      "face-recognition              1.3.0\n",
      "face-recognition-models       0.3.0\n",
      "feedfinder2                   0.0.4\n",
      "feedparser                    6.0.8\n",
      "filelock                      3.6.0\n",
      "Fiona                         1.8.21\n",
      "Flask                         2.0.2\n",
      "flask-ngrok                   0.0.25\n",
      "flatbuffers                   1.12\n",
      "flit_core                     3.7.1\n",
      "folium                        0.12.1\n",
      "fonttools                     4.29.1\n",
      "frozenlist                    1.3.0\n",
      "fsspec                        2022.2.0\n",
      "future                        0.18.2\n",
      "fvcore                        0.1.5.post20220305\n",
      "gast                          0.4.0\n",
      "gensim                        4.1.2\n",
      "geopandas                     0.10.1\n",
      "glob2                         0.7\n",
      "google-api-core               2.6.0\n",
      "google-api-python-client      2.26.1\n",
      "google-auth                   2.6.0\n",
      "google-auth-httplib2          0.1.0\n",
      "google-auth-oauthlib          0.4.6\n",
      "google-cloud-vision           2.5.0\n",
      "google-pasta                  0.2.0\n",
      "googleapis-common-protos      1.55.0\n",
      "googletrans                   3.0.0\n",
      "grpcio                        1.44.0\n",
      "grpcio-status                 1.44.0\n",
      "h11                           0.9.0\n",
      "h2                            3.2.0\n",
      "h3                            3.7.3\n",
      "h5py                          3.1.0\n",
      "hiredis                       2.0.0\n",
      "hpack                         3.0.0\n",
      "hstspreload                   2021.12.1\n",
      "httpcore                      0.9.1\n",
      "httplib2                      0.20.4\n",
      "httpx                         0.13.3\n",
      "huggingface-hub               0.0.19\n",
      "hydra-core                    1.1.1\n",
      "hyperframe                    5.2.0\n",
      "idna                          2.10\n",
      "imageio                       2.9.0\n",
      "imageio-ffmpeg                0.4.5\n",
      "imantics                      0.1.12\n",
      "imbalanced-learn              0.8.1\n",
      "imgaug                        0.4.0\n",
      "implicit                      0.4.8\n",
      "importlib-metadata            4.11.2\n",
      "importlib-resources           5.4.0\n",
      "iopath                        0.1.9\n",
      "ipykernel                     6.9.1\n",
      "ipython                       7.28.0\n",
      "ipython-genutils              0.2.0\n",
      "ipywidgets                    7.6.5\n",
      "itsdangerous                  2.1.0\n",
      "jedi                          0.18.1\n",
      "jieba3k                       0.35.1\n",
      "Jinja2                        3.0.3\n",
      "joblib                        1.1.0\n",
      "JPype1                        1.3.0\n",
      "jsonpickle                    2.1.0\n",
      "jsonschema                    4.4.0\n",
      "jupyter-client                7.1.2\n",
      "jupyter-core                  4.9.2\n",
      "jupyter-desktop-server        0.1.3\n",
      "jupyter-server                1.13.5\n",
      "jupyter-server-proxy          3.2.1\n",
      "jupyterlab-pygments           0.1.2\n",
      "jupyterlab-widgets            1.0.2\n",
      "keras                         2.6.0\n",
      "Keras-Applications            1.0.8\n",
      "keras-ocr                     0.8.8\n",
      "Keras-Preprocessing           1.1.2\n",
      "kiwisolver                    1.3.2\n",
      "konlpy                        0.5.2\n",
      "labelme2coco                  0.1.2\n",
      "libarchive-c                  4.0\n",
      "librosa                       0.8.1\n",
      "lightgbm                      3.3.0\n",
      "llvmlite                      0.38.0\n",
      "lmdb                          1.2.1\n",
      "loguru                        0.5.3\n",
      "lxml                          4.6.3\n",
      "Markdown                      3.3.6\n",
      "MarkupSafe                    2.1.0\n",
      "matplotlib                    3.4.3\n",
      "matplotlib-inline             0.1.3\n",
      "matplotlib-venn               0.11.6\n",
      "mecab-python                  0.996-ko-0.9.2\n",
      "mido                          1.2.10\n",
      "missingno                     0.5.0\n",
      "mistune                       0.8.4\n",
      "moviepy                       1.0.3\n",
      "msgpack                       1.0.3\n",
      "multidict                     6.0.2\n",
      "multiprocess                  0.70.12.2\n",
      "munch                         2.5.0\n",
      "mypy-extensions               0.4.3\n",
      "nbclient                      0.5.12\n",
      "nbconvert                     6.4.2\n",
      "nbformat                      5.1.3\n",
      "nest-asyncio                  1.5.4\n",
      "networkx                      2.6.3\n",
      "newspaper3k                   0.2.8\n",
      "nltk                          3.6.5\n",
      "notebook                      6.1.6\n",
      "numba                         0.55.1\n",
      "numpy                         1.22.2\n",
      "oauthlib                      3.2.0\n",
      "omegaconf                     2.1.1\n",
      "opencv-contrib-python         4.5.3.56\n",
      "opencv-python                 4.5.3.56\n",
      "opencv-python-headless        4.5.5.62\n",
      "opt-einsum                    3.3.0\n",
      "outcome                       1.1.0\n",
      "packaging                     21.3\n",
      "pandas                        1.3.3\n",
      "pandocfilters                 1.5.0\n",
      "parso                         0.8.3\n",
      "pathspec                      0.9.0\n",
      "patsy                         0.5.2\n",
      "pexpect                       4.8.0\n",
      "pickleshare                   0.7.5\n",
      "Pillow                        8.3.2\n",
      "pip                           22.0.3\n",
      "pixellib                      0.7.1\n",
      "pkginfo                       1.8.2\n",
      "platformdirs                  2.5.1\n",
      "pmdarima                      1.8.3\n",
      "pooch                         1.6.0\n",
      "portalocker                   2.4.0\n",
      "proglog                       0.1.9\n",
      "prometheus-client             0.13.1\n",
      "promise                       2.3\n",
      "prompt-toolkit                3.0.27\n",
      "proto-plus                    1.20.3\n",
      "protobuf                      3.19.4\n",
      "psutil                        5.9.0\n",
      "ptyprocess                    0.7.0\n",
      "pure-eval                     0.2.2\n",
      "py4j                          0.10.9\n",
      "pyarrow                       7.0.0\n",
      "pyasn1                        0.4.8\n",
      "pyasn1-modules                0.2.8\n",
      "pyclipper                     1.3.0.post2\n",
      "pycosat                       0.6.3\n",
      "pycparser                     2.21\n",
      "pydot                         1.4.2\n",
      "pydotplus                     2.0.2\n",
      "Pygments                      2.11.2\n",
      "pyOpenSSL                     22.0.0\n",
      "pyparsing                     3.0.7\n",
      "pyproj                        3.2.1\n",
      "PyQt5                         5.15.6\n",
      "PyQt5-Qt5                     5.15.2\n",
      "PyQt5-sip                     12.9.1\n",
      "pyrsistent                    0.18.1\n",
      "PySocks                       1.7.1\n",
      "pyspark                       3.1.2\n",
      "pytesseract                   0.3.8\n",
      "python-dateutil               2.8.2\n",
      "python-Levenshtein            0.12.2\n",
      "pytz                          2021.3\n",
      "pyvis                         0.1.9\n",
      "PyWavelets                    1.2.0\n",
      "PyYAML                        6.0\n",
      "pyzmq                         22.3.0\n",
      "qudida                        0.0.4\n",
      "ray                           1.7.0\n",
      "redis                         4.1.4\n",
      "regex                         2022.3.2\n",
      "requests                      2.26.0\n",
      "requests-file                 1.5.1\n",
      "requests-oauthlib             1.3.1\n",
      "resampy                       0.2.2\n",
      "rfc3986                       1.5.0\n",
      "rsa                           4.8\n",
      "ruamel-yaml-conda             0.15.80\n",
      "sacremoses                    0.0.47\n",
      "scikit-image                  0.18.3\n",
      "scikit-learn                  1.0\n",
      "scipy                         1.7.1\n",
      "seaborn                       0.11.2\n",
      "selenium                      4.0.0\n",
      "Send2Trash                    1.8.0\n",
      "sentencepiece                 0.1.96\n",
      "setuptools                    60.9.3\n",
      "sgmllib3k                     1.0.0\n",
      "Shapely                       1.7.1\n",
      "simpervisor                   0.4\n",
      "six                           1.16.0\n",
      "smart-open                    5.2.1\n",
      "sniffio                       1.2.0\n",
      "sortedcontainers              2.4.0\n",
      "SoundFile                     0.10.3.post1\n",
      "soupsieve                     2.3.1\n",
      "soynlp                        0.0.493\n",
      "stack-data                    0.2.0\n",
      "statistics                    1.0.3.5\n",
      "statsmodels                   0.13.0\n",
      "summa                         1.2.0\n",
      "tabulate                      0.8.9\n",
      "tensorboard                   2.8.0\n",
      "tensorboard-data-server       0.6.1\n",
      "tensorboard-plugin-wit        1.8.1\n",
      "tensorflow                    2.6.0\n",
      "tensorflow-addons             0.14.0\n",
      "tensorflow-datasets           4.4.0\n",
      "tensorflow-estimator          2.8.0\n",
      "tensorflow-hub                0.12.0\n",
      "tensorflow-metadata           1.7.0\n",
      "termcolor                     1.1.0\n",
      "terminado                     0.13.2\n",
      "testpath                      0.6.0\n",
      "threadpoolctl                 3.1.0\n",
      "tifffile                      2022.2.9\n",
      "tinysegmenter                 0.3\n",
      "tldextract                    3.2.0\n",
      "tokenizers                    0.10.3\n",
      "tomli                         2.0.1\n",
      "torch                         1.9.1+rocm4.2\n",
      "torchaudio                    0.9.1\n",
      "torchvision                   0.10.1+rocm4.2\n",
      "tornado                       6.1\n",
      "tqdm                          4.62.3\n",
      "traitlets                     5.1.1\n",
      "transformers                  4.11.3\n",
      "trio                          0.20.0\n",
      "trio-websocket                0.9.2\n",
      "tweepy                        3.10.0\n",
      "typeguard                     2.13.3\n",
      "typing_extensions             4.1.1\n",
      "uritemplate                   4.1.1\n",
      "urllib3                       1.26.7\n",
      "validators                    0.18.2\n",
      "wcwidth                       0.2.5\n",
      "webencodings                  0.5.1\n",
      "websocket-client              1.3.1\n",
      "websockify                    0.10.0\n",
      "Werkzeug                      2.0.3\n",
      "wget                          3.2\n",
      "wheel                         0.37.1\n",
      "widgetsnbextension            3.5.2\n",
      "wordcloud                     1.8.1\n",
      "wrapt                         1.12.1\n",
      "wsproto                       1.1.0\n",
      "xgboost                       1.4.2\n",
      "xmljson                       0.2.1\n",
      "xxhash                        3.0.0\n",
      "yacs                          0.1.8\n",
      "yarl                          1.7.2\n",
      "zipp                          3.7.0\n"
     ]
    }
   ],
   "source": [
    "!pip list"
   ]
  },
  {
   "cell_type": "code",
   "execution_count": 6,
   "id": "f8b637d4",
   "metadata": {},
   "outputs": [
    {
     "name": "stdout",
     "output_type": "stream",
     "text": [
      "tf.Tensor([0 1 1 1 1 0 1], shape=(7,), dtype=int32)\n"
     ]
    }
   ],
   "source": [
    "import tensorflow as tf\n",
    "f = tf.constant([0, 1, 1, 1, 1, 0, 1])\n",
    "f = tf.squeeze(f)\n",
    "print(f)"
   ]
  },
  {
   "cell_type": "code",
   "execution_count": 7,
   "id": "1aedd9f1",
   "metadata": {},
   "outputs": [
    {
     "name": "stdout",
     "output_type": "stream",
     "text": [
      "tf.Tensor([0 1 1 1 1 0 1], shape=(7,), dtype=int32)\n"
     ]
    }
   ],
   "source": [
    "g = tf.constant([[0], [1], [1], [1], [1], [0], [1]])\n",
    "g = tf.squeeze(g)\n",
    "print(g)"
   ]
  },
  {
   "cell_type": "code",
   "execution_count": null,
   "id": "457f1875",
   "metadata": {},
   "outputs": [],
   "source": []
  }
 ],
 "metadata": {
  "kernelspec": {
   "display_name": "Python 3 (ipykernel)",
   "language": "python",
   "name": "python3"
  },
  "language_info": {
   "codemirror_mode": {
    "name": "ipython",
    "version": 3
   },
   "file_extension": ".py",
   "mimetype": "text/x-python",
   "name": "python",
   "nbconvert_exporter": "python",
   "pygments_lexer": "ipython3",
   "version": "3.9.7"
  }
 },
 "nbformat": 4,
 "nbformat_minor": 5
}
