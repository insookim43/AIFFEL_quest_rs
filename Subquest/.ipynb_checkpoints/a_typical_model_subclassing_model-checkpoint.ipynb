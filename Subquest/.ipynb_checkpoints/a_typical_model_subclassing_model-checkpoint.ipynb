{
 "cells": [
  {
   "cell_type": "markdown",
   "id": "e1e461b4",
   "metadata": {},
   "source": [
    "# Model subclassing  \n",
    "Model 클래스는 fit(), evaluate(), predict() 메서드를 가지고 있으며,  \n",
    "모델을 디스크에 파일로 저장할 수 있다.  \n",
    "## Model class를 상속하여 사용자 정의 모델을 만드는 방법\n",
    "\n",
    "- `__init__()` 메서드에서 모델이 사용할 층을 정의함  \n",
    "- `call()` 메서드에서 만든 층을 사용하여 모델의 정방향 패스를 정의  \n",
    "- 서브클래스의 객체를 만들고 데이터와 함께 호출하여 가중치를 만듬"
   ]
  },
  {
   "cell_type": "code",
   "execution_count": 2,
   "id": "a7c60af3",
   "metadata": {},
   "outputs": [],
   "source": [
    "from tensorflow import keras\n",
    "from tensorflow.keras import layers"
   ]
  },
  {
   "cell_type": "markdown",
   "id": "04736811",
   "metadata": {},
   "source": [
    "이하의 예제는 functional api에서 구현하였던 티켓 관리 예제를 다시 구현한 것이다."
   ]
  },
  {
   "cell_type": "code",
   "execution_count": 9,
   "id": "b0d249b3",
   "metadata": {},
   "outputs": [],
   "source": [
    "class CustomerTicketModel(keras.Model):\n",
    "    def __init__(self, num_departments):\n",
    "        super().__init__()\n",
    "        self.concat_layer = layers.Concatenate()\n",
    "        self.mixing_layer = layers.Dense(64, activation=\"relu\")\n",
    "        self.priority_scorer = layers.Dense(1, activation=\"sigmoid\")\n",
    "        self.department_classifier = layers.Dense(\n",
    "        num_departments, activation=\"softmax\")\n",
    "    def call(self, inputs):\n",
    "        title = inputs[\"title\"]\n",
    "        text_body = inputs[\"text_body\"]\n",
    "        tags = inputs[\"tags\"]\n",
    "        features = self.concat_layer([title, text_body, tags])\n",
    "        features = self.mixing_layer(features)\n",
    "        priority = self.priority_scorer(features)\n",
    "        department = self.department_classifier(features)\n",
    "        return priority, department"
   ]
  },
  {
   "cell_type": "markdown",
   "id": "a88c1d26",
   "metadata": {},
   "source": [
    "모델을 정의했으므로, 이 클래스의 객체를 만들 수 있다. Layer 클래스와 마찬가지로 어떤 데이터로 처음 호출할 때 가중치를 만든다."
   ]
  },
  {
   "cell_type": "code",
   "execution_count": 10,
   "id": "d4474bc8",
   "metadata": {},
   "outputs": [],
   "source": [
    "import numpy as np\n",
    "num_samples = 1280\n",
    "vocabulary_size = 10000\n",
    "num_tags = 100\n",
    "num_departments= 4\n",
    "\n",
    "title_data = np.random.randint(0, 2, size=(num_samples, vocabulary_size))\n",
    "text_body_data = np.random.randint(0, 2, size=(num_samples, vocabulary_size))\n",
    "tags_data = np.random.randint(0, 2, size=(num_samples, num_tags))\n",
    "priority_data = np.random.random(size=(num_samples, 1))\n",
    "department_data = np.random.randint(0, 2, size=(num_samples, num_departments))"
   ]
  },
  {
   "cell_type": "code",
   "execution_count": 11,
   "id": "269e0f97",
   "metadata": {},
   "outputs": [],
   "source": [
    "model = CustomerTicketModel(num_departments=4)\n",
    "priority, department = model(\n",
    "    {\"title\": title_data,\n",
    "    \"text_body\": text_body_data,\n",
    "    \"tags\": tags_data}\n",
    ")"
   ]
  },
  {
   "cell_type": "markdown",
   "id": "75200daa",
   "metadata": {},
   "source": [
    "모델을 컴파일하고 훈련할 수 있다."
   ]
  },
  {
   "cell_type": "code",
   "execution_count": 13,
   "id": "f8c9d981",
   "metadata": {},
   "outputs": [
    {
     "name": "stdout",
     "output_type": "stream",
     "text": [
      "40/40 [==============================] - 2s 27ms/step - loss: 25.9734 - output_1_loss: 0.3189 - output_2_loss: 25.6545 - output_1_mean_absolute_error: 0.4879 - output_2_accuracy: 0.2703\n",
      "40/40 [==============================] - 1s 9ms/step - loss: 35.8348 - output_1_loss: 0.3264 - output_2_loss: 35.5084 - output_1_mean_absolute_error: 0.4956 - output_2_accuracy: 0.0555\n"
     ]
    },
    {
     "data": {
      "text/plain": [
       "[35.83479309082031,\n",
       " 0.3264123797416687,\n",
       " 35.50837326049805,\n",
       " 0.49560290575027466,\n",
       " 0.05546874925494194]"
      ]
     },
     "execution_count": 13,
     "metadata": {},
     "output_type": "execute_result"
    }
   ],
   "source": [
    "model.compile(optimizer=\"rmsprop\",\n",
    "             loss=[\"mean_squared_error\", \"categorical_crossentropy\"],\n",
    "             metrics=[[\"mean_absolute_error\"], [\"accuracy\"]])\n",
    "model.fit({\"title\": title_data,\n",
    "         \"text_body\": text_body_data,\n",
    "         \"tags\": tags_data},\n",
    "         [priority_data, department_data],\n",
    "         epochs=1)\n",
    "model.evaluate({\"title\": title_data,\n",
    "               \"text_body\": text_body_data,\n",
    "                \"tags\": tags_data},\n",
    "                [priority_data, department_data]\n",
    "               )"
   ]
  },
  {
   "cell_type": "code",
   "execution_count": 16,
   "id": "e7fcdded",
   "metadata": {},
   "outputs": [
    {
     "name": "stdout",
     "output_type": "stream",
     "text": [
      "[[1.]\n",
      " [1.]\n",
      " [1.]\n",
      " ...\n",
      " [1.]\n",
      " [1.]\n",
      " [1.]]\n",
      "[[7.2048595e-10 2.6752944e-18 8.8690458e-06 9.9999118e-01]\n",
      " [6.3865646e-10 2.4473887e-17 2.3659237e-05 9.9997640e-01]\n",
      " [1.7777876e-09 1.0094958e-18 7.9579349e-06 9.9999201e-01]\n",
      " ...\n",
      " [7.5876078e-10 2.2226465e-18 6.0110115e-06 9.9999404e-01]\n",
      " [9.2045033e-10 4.4560174e-18 5.7123407e-06 9.9999428e-01]\n",
      " [7.7897500e-10 1.1169499e-17 1.9717500e-05 9.9998033e-01]]\n"
     ]
    }
   ],
   "source": [
    "priority_preds, department_preds = model.predict({\"title\": title_data,\n",
    "                                                 \"text_body\": text_body_data,\n",
    "                                                 \"tags\": tags_data})\n",
    "print(priority_preds)\n",
    "print(department_preds)"
   ]
  },
  {
   "cell_type": "markdown",
   "id": "b6c2f16c",
   "metadata": {},
   "source": [
    "모델 서브클래싱으로는 모델을 만들 때 dag(directed acyclic graph)로 표현할 수 없는 모델을 만들 수 있다.  \n",
    "예를 들어 call() 메서드가 for 루프 안에서 층을 사용하거나 재귀적으로 호출하는 등의 모델도 가능하다."
   ]
  },
  {
   "cell_type": "markdown",
   "id": "7dfc3342",
   "metadata": {},
   "source": [
    "## 서브클래싱된 모델의 단점\n",
    "모델 오류 가능성에 따라 디버깅 작업이 많아진다.  \n",
    "함수형 모델은 명시적 데이터 구조인 층의 그래프이므로, 출력, 조사, 수정이 가능하다.  \n",
    "서브클래싱 모델은 한 덩어리의 바이트코드(bytecode)로서, 원시 코드가 담긴 call() 메서드를 가진 파이썬 클래스이다.  \n",
    "이로 인한 유연성이 장점이지만, 새로운 제약이 발생한다.  \n",
    "예컨대 층이 서로 연결되는 방식이 call()메서드 안에 감추어진다. 이 정보를 활용하기 어렵다.  \n",
    "summary() 메서드가 층의 연결 구조를 출력할 수 없다. plot_model()함수로 모델의 구조를 그래프로 그릴 수 없다.  \n",
    "\n",
    "비슷하게 서브클래싱 모델은 그래프가 없기 떄문에 특성 추출을 위해 층 그래프의 노드를 참조할 수 없다.  \n",
    "이 모델의 객체를 생성하고 나면 정방향 패스는 call()메서드 소스를 직접 확인하지 않고서는 모델 구조를 알 수 없다.\n"
   ]
  }
 ],
 "metadata": {
  "kernelspec": {
   "display_name": "Python 3 (ipykernel)",
   "language": "python",
   "name": "python3"
  },
  "language_info": {
   "codemirror_mode": {
    "name": "ipython",
    "version": 3
   },
   "file_extension": ".py",
   "mimetype": "text/x-python",
   "name": "python",
   "nbconvert_exporter": "python",
   "pygments_lexer": "ipython3",
   "version": "3.9.7"
  }
 },
 "nbformat": 4,
 "nbformat_minor": 5
}
