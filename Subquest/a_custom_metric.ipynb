{
 "cells": [
  {
   "cell_type": "code",
   "execution_count": 1,
   "id": "e9720908",
   "metadata": {},
   "outputs": [],
   "source": [
    "# preliminary\n",
    "from tensorflow.keras.datasets import imdb\n",
    "from tensorflow import keras\n",
    "from tensorflow.keras import layers \n",
    "import numpy as np\n",
    "import tensorflow as tf"
   ]
  },
  {
   "cell_type": "code",
   "execution_count": 2,
   "id": "5561bd3b",
   "metadata": {},
   "outputs": [],
   "source": [
    "# load imdb data\n",
    "(train_data, train_labels), _ = imdb.load_data(num_words=10000)"
   ]
  },
  {
   "cell_type": "code",
   "execution_count": 3,
   "id": "7adae5c2",
   "metadata": {},
   "outputs": [],
   "source": [
    "# \n",
    "def vectorize_sequences(sequences, dimension=10000):\n",
    "    results = np.zeros((len(sequences), dimension))\n",
    "    for i, sequence in enumerate(sequences):\n",
    "        results[i, sequence] = 1.\n",
    "    return results\n",
    "\n",
    "train_data = vectorize_sequences(train_data)\n",
    "\n",
    "# define model\n",
    "def build_model():\n",
    "    model = keras.Sequential([\n",
    "        layers.Dense(4, activation=\"relu\"),\n",
    "        layers.Dense(4, activation=\"relu\"),\n",
    "        layers.Dense(1, activation=\"sigmoid\")\n",
    "    ])\n",
    "    return model"
   ]
  },
  {
   "cell_type": "code",
   "execution_count": 4,
   "id": "234c1e40",
   "metadata": {},
   "outputs": [
    {
     "name": "stdout",
     "output_type": "stream",
     "text": [
      "[1 0 0 ... 0 1 0]\n"
     ]
    }
   ],
   "source": [
    "print(train_labels)"
   ]
  },
  {
   "cell_type": "code",
   "execution_count": 5,
   "id": "e9058e40",
   "metadata": {},
   "outputs": [],
   "source": [
    "class RootMeanSquaredError(keras.metrics.Metric):\n",
    "    def __init__(self, name=\"rmse\", **kwargs):\n",
    "        super().__init__(name=name, **kwargs)\n",
    "        self.mse_sum = self.add_weight(name=\"mse_sum\", initializer=\"zeros\")\n",
    "        self.total_samples = self.add_weight(\n",
    "            name=\"total_samples\", initializer=\"zeros\", dtype=\"int32\"\n",
    "        )\n",
    "    \n",
    "    def update_state(self, y_true, y_pred, sample_weight=None):\n",
    "        y_true = tf.one_hot(y_true, depth=tf.shape(y_pred)[1])\n",
    "        mse = tf.reduce_sum(tf.square(y_true - y_pred))\n",
    "        self.mse_sum.assign_add(mse)\n",
    "        num_samples = tf.shape(y_pred)[0]\n",
    "        self.total_samples.assign_add(num_samples)\n",
    "    \n",
    "    def result(self):\n",
    "        return tf.sqrt(self.mse_sum / tf.cast(self.total_samples, tf.float32))\n",
    "    \n",
    "    def reset_state(self):\n",
    "        self.mse_sum.assign(0.)\n",
    "        self.total_samples.assign(0)"
   ]
  },
  {
   "cell_type": "code",
   "execution_count": 6,
   "id": "cc2506e7",
   "metadata": {},
   "outputs": [],
   "source": [
    "class F1Score(keras.metrics.Metric):\n",
    "    def __init__(self, name=\"F1score_user\", **kwargs):\n",
    "        super().__init__(name=name, **kwargs)\n",
    "        self.true_positives = self.add_weight(name=\"true_positives\", initializer=\"zeros\")\n",
    "        self.predicted_positives = self.add_weight(name=\"predicted_positives\", initializer=\"zeros\") \n",
    "        self.actual_positives = self.add_weight(name=\"actual_positives\", initializer=\"zeros\")\n",
    "            \n",
    "    def update_state(self, y_true, y_pred, sample_weight=None):\n",
    "        # For binary classification, threshold predictions at 0.5\n",
    "        y_pred_classes = tf.squeeze(tf.cast(y_pred > 0.5, \"float32\"))\n",
    "        y_true = tf.squeeze(tf.cast(y_true, \"float32\"))\n",
    "\n",
    "        actual_positives = tf.reduce_sum(y_true)\n",
    "        true_positives = tf.reduce_sum(y_true * y_pred_classes)\n",
    "        predicted_positives = tf.reduce_sum(y_pred_classes)\n",
    "        \n",
    "        self.true_positives.assign_add(true_positives)\n",
    "        self.predicted_positives.assign_add(predicted_positives)     \n",
    "        self.actual_positives.assign_add(actual_positives)     \n",
    "    \n",
    "    def result(self):\n",
    "        precision = ( tf.cast(self.true_positives, tf.float32) \n",
    "              / tf.cast(self.predicted_positives, tf.float32) + tf.keras.backend.epsilon())\n",
    "        recall = ( tf.cast(self.true_positives, tf.float32) \n",
    "              / tf.cast(self.actual_positives, tf.float32) + tf.keras.backend.epsilon())\n",
    "        return  (2 * recall * precision) / (recall + precision + tf.keras.backend.epsilon())\n",
    "    \n",
    "    def reset_state(self):\n",
    "        self.true_positives.assign(0)\n",
    "        self.predicted_positives.assign(0)\n",
    "        self.actual_positives.assign(0)\n",
    "                "
   ]
  },
  {
   "cell_type": "code",
   "execution_count": 7,
   "id": "7959a971",
   "metadata": {},
   "outputs": [],
   "source": [
    "class acc_user(keras.metrics.Metric):\n",
    "    def __init__(self, name=\"acc_user\", **kwargs):\n",
    "        super().__init__(name=name, **kwargs)\n",
    "        self.true_positives = self.add_weight(name=\"true_positives\", initializer=\"zeros\")\n",
    "        self.predicted_positives = self.add_weight(name=\"predicted_positives\", initializer=\"zeros\") \n",
    "        self.actual_positives = self.add_weight(name=\"actual_positives\", initializer=\"zeros\")\n",
    "        self.true_negatives = self.add_weight(name=\"true_negatives\", initializer=\"zeros\")\n",
    "        self.total_samples = self.add_weight(\n",
    "            name=\"total_samples\", initializer=\"zeros\", dtype=\"int32\"\n",
    "        )\n",
    "#         tp + tn / tp + fp + tn + fn = acc\n",
    "#         tp + fp = p.p\n",
    "#         tp + fn = a.p\n",
    "#         tn             \n",
    "    def update_state(self, y_true, y_pred, sample_weight=None):\n",
    "        # For binary classification, threshold predictions at 0.5\n",
    "        y_pred_classes = tf.squeeze(tf.cast(y_pred > 0.5, \"float32\"))\n",
    "        y_true = tf.squeeze(tf.cast(y_true, \"float32\"))\n",
    "               \n",
    "        actual_positives = tf.reduce_sum(y_true)\n",
    "        true_positives = tf.reduce_sum(y_true * y_pred_classes)\n",
    "        predicted_positives = tf.reduce_sum(y_pred_classes)\n",
    "        # false_negatives = tf.reduce_sum(y_true.shape[0] - predicted_positives - (y_true.shape[0]-y_true))\n",
    "        # all samples - p.p - tn\n",
    "        # tn = !y_true\n",
    "        #true_negatives = tf.reduce_sum(tf.constant(1, dtype=\"float32\") -y_true)\n",
    "        true_negatives = tf.reduce_sum((1 -y_true)*(1-y_pred_classes))\n",
    "        total_samples = tf.shape(y_pred)[0]\n",
    "        \n",
    "        self.true_positives.assign_add(true_positives)\n",
    "        self.predicted_positives.assign_add(predicted_positives)     \n",
    "        self.actual_positives.assign_add(actual_positives)     \n",
    "        self.true_negatives.assign_add(true_negatives)\n",
    "        self.total_samples.assign_add(total_samples)    \n",
    "        \n",
    "    def result(self):\n",
    "\n",
    "        return  (self.true_positives+self.true_negatives)/(tf.cast(self.total_samples, tf.float32) + tf.keras.backend.epsilon())\n",
    "        #return self.total_samples\n",
    "    \n",
    "    def reset_state(self):\n",
    "        self.true_positives.assign(0)\n",
    "        self.predicted_positives.assign(0)\n",
    "        self.actual_positives.assign(0)\n",
    "        self.true_negatives.assign(0)\n",
    "        self.total_samples.assign(0)\n",
    "                "
   ]
  },
  {
   "cell_type": "code",
   "execution_count": 8,
   "id": "156e4143",
   "metadata": {},
   "outputs": [],
   "source": [
    "class tp(keras.metrics.Metric):\n",
    "    def __init__(self, name=\"tp\", **kwargs):\n",
    "        super().__init__(name=name, **kwargs)\n",
    "        self.true_positives = self.add_weight(name=\"true_positives\", initializer=\"zeros\")\n",
    "        self.predicted_positives = self.add_weight(name=\"predicted_positives\", initializer=\"zeros\") \n",
    "        self.actual_positives = self.add_weight(name=\"actual_positives\", initializer=\"zeros\")\n",
    "        self.true_negatives = self.add_weight(name=\"true_negatives\", initializer=\"zeros\")\n",
    "        self.total_samples = self.add_weight(\n",
    "            name=\"total_samples\", initializer=\"zeros\", dtype=\"int32\"\n",
    "        )\n",
    "#         tp + tn / tp + fp + tn + fn = acc\n",
    "#         tp + fp = p.p\n",
    "#         tp + fn = a.p\n",
    "#         tn \n",
    "            \n",
    "    def update_state(self, y_true, y_pred, sample_weight=None):\n",
    "        # For binary classification, threshold predictions at 0.5\n",
    "        y_pred_classes = tf.squeeze(tf.cast(y_pred > 0.5, \"float32\"))\n",
    "        y_true = tf.squeeze(tf.cast(y_true, \"float32\"))\n",
    "        \n",
    "        \n",
    "        actual_positives = tf.reduce_sum(y_true)\n",
    "        true_positives = tf.reduce_sum(y_true * y_pred_classes)\n",
    "        predicted_positives = tf.reduce_sum(y_pred_classes)\n",
    "        # false_negatives = tf.reduce_sum(y_true.shape[0] - predicted_positives - (y_true.shape[0]-y_true))\n",
    "        # all samples - p.p - tn\n",
    "        # tn = !y_true\n",
    "        true_negatives = tf.reduce_sum((1 -y_true)*(1-y_pred_classes))\n",
    "        total_samples = tf.shape(y_pred)[0]\n",
    "        \n",
    "        self.true_positives.assign_add(true_positives)\n",
    "        self.predicted_positives.assign_add(predicted_positives)     \n",
    "        self.actual_positives.assign_add(actual_positives)     \n",
    "        self.true_negatives.assign_add(true_negatives)\n",
    "        self.total_samples.assign_add(total_samples)    \n",
    "        \n",
    "    def result(self):\n",
    "\n",
    "        #return  (self.true_positives+self.true_negatives)/(tf.cast(self.total_samples, tf.float32) + tf.keras.backend.epsilon())\n",
    "        return self.true_positives\n",
    "    \n",
    "    def reset_state(self):\n",
    "        self.true_positives.assign(0)\n",
    "        self.predicted_positives.assign(0)\n",
    "        self.actual_positives.assign(0)\n",
    "        self.true_negatives.assign(0)\n",
    "        self.total_samples.assign(0)\n",
    "                "
   ]
  },
  {
   "cell_type": "code",
   "execution_count": 9,
   "id": "d6dfd0a4",
   "metadata": {},
   "outputs": [],
   "source": [
    "class tn(keras.metrics.Metric):\n",
    "    def __init__(self, name=\"tn\", **kwargs):\n",
    "        super().__init__(name=name, **kwargs)\n",
    "        self.true_positives = self.add_weight(name=\"true_positives\", initializer=\"zeros\")\n",
    "        self.predicted_positives = self.add_weight(name=\"predicted_positives\", initializer=\"zeros\") \n",
    "        self.actual_positives = self.add_weight(name=\"actual_positives\", initializer=\"zeros\")\n",
    "        self.true_negatives = self.add_weight(name=\"true_negatives\", initializer=\"zeros\")\n",
    "        self.total_samples = self.add_weight(\n",
    "            name=\"total_samples\", initializer=\"zeros\", dtype=\"int32\"\n",
    "        )\n",
    "#         tp + tn / tp + fp + tn + fn = acc\n",
    "#         tp + fp = p.p\n",
    "#         tp + fn = a.p\n",
    "#         tn \n",
    "            \n",
    "    def update_state(self, y_true, y_pred, sample_weight=None):\n",
    "        # For binary classification, threshold predictions at 0.5\n",
    "        y_pred_classes = tf.squeeze(tf.cast(y_pred > 0.5, \"float32\"))\n",
    "        y_true = tf.squeeze(tf.cast(y_true, \"float32\"))\n",
    "                \n",
    "        actual_positives = tf.reduce_sum(y_true)\n",
    "        true_positives = tf.reduce_sum(y_true * y_pred_classes)\n",
    "        predicted_positives = tf.reduce_sum(y_pred_classes)\n",
    "        # false_negatives = tf.reduce_sum(y_true.shape[0] - predicted_positives - (y_true.shape[0]-y_true))\n",
    "        # all samples - p.p - tn\n",
    "        # tn = !y_true\n",
    "        true_negatives = tf.reduce_sum((1 -y_true)*(1-y_pred_classes))\n",
    "        total_samples = tf.shape(y_pred)[0]\n",
    "        \n",
    "        self.true_positives.assign_add(true_positives)\n",
    "        self.predicted_positives.assign_add(predicted_positives)     \n",
    "        self.actual_positives.assign_add(actual_positives)     \n",
    "        self.true_negatives.assign_add(true_negatives)\n",
    "        self.total_samples.assign_add(total_samples)    \n",
    "        \n",
    "    def result(self):\n",
    "\n",
    "        #return  (self.true_positives+self.true_negatives)/(tf.cast(self.total_samples, tf.float32) + tf.keras.backend.epsilon())\n",
    "        return self.true_negatives\n",
    "    \n",
    "    def reset_state(self):\n",
    "        self.true_positives.assign(0)\n",
    "        self.predicted_positives.assign(0)\n",
    "        self.actual_positives.assign(0)\n",
    "        self.true_negatives.assign(0)\n",
    "        self.total_samples.assign(0)\n",
    "                "
   ]
  },
  {
   "cell_type": "code",
   "execution_count": null,
   "id": "ffe5bbef",
   "metadata": {},
   "outputs": [],
   "source": []
  },
  {
   "cell_type": "code",
   "execution_count": 10,
   "id": "8d22adc5",
   "metadata": {},
   "outputs": [],
   "source": [
    "class F1Score2(keras.metrics.Metric):\n",
    "    def __init__(self, name=\"F1score_user2\", **kwargs):\n",
    "        super().__init__(name=name, **kwargs)\n",
    "        self.true_positives = self.add_weight(name=\"true_positives\", initializer=\"zeros\")\n",
    "        self.true_negatives = self.add_weight(name=\"true_negatives\", initializer=\"zeros\") \n",
    "        self.false_positives = self.add_weight(name=\"false_positives\", initializer=\"zeros\")\n",
    "        self.false_negatives = self.add_weight(name=\"false_negatives\", initializer=\"zeros\")\n",
    "            \n",
    "    def update_state(self, y_true, y_pred, sample_weight=None):\n",
    "        # For binary classification, threshold predictions at 0.5\n",
    "        y_pred_classes = tf.squeeze(tf.cast(y_pred > 0.5, \"float32\"))\n",
    "        y_true = tf.squeeze(tf.cast(y_true, \"float32\"))\n",
    "\n",
    "        true_positives = tf.reduce_sum(y_true * y_pred_classes)\n",
    "        true_negatives = tf.reduce_sum((1 -y_true)*(1-y_pred_classes))\n",
    "        false_positives = tf.reduce_sum(tf.cast(((y_pred_classes == 1) & (y_true == 0)), tf.float32))\n",
    "        false_negatives = tf.reduce_sum(tf.cast( ((y_pred_classes == 0) & (y_true == 1)), tf.float32))\n",
    "        \n",
    "        self.true_positives.assign_add(true_positives)\n",
    "        self.true_negatives.assign_add(true_negatives)     \n",
    "        self.false_positives.assign_add(false_positives)     \n",
    "        self.false_negatives.assign_add(false_negatives)     \n",
    "    \n",
    "    def result(self):\n",
    "        precision = tf.cast(self.true_positives, \"float32\")/ (tf.cast(self.true_positives, \"float32\")+ tf.cast(self.false_positives, \"float32\")+ tf.keras.backend.epsilon())\n",
    "                \n",
    "        recall = tf.cast(self.true_positives, \"float32\")/ (tf.cast(self.true_positives, \"float32\")+ tf.cast(self.false_negatives, \"float32\")+ tf.keras.backend.epsilon())\n",
    "                \n",
    "        return  (2 * recall * precision) / (recall + precision + tf.keras.backend.epsilon())\n",
    "    \n",
    "    def reset_state(self):\n",
    "        self.true_positives.assign(0)\n",
    "        self.true_negatives.assign(0)\n",
    "        self.false_positives.assign(0)\n",
    "        self.false_negatives.assign(0)      "
   ]
  },
  {
   "cell_type": "code",
   "execution_count": 11,
   "id": "f163accb",
   "metadata": {},
   "outputs": [],
   "source": [
    "class fp2(keras.metrics.Metric):\n",
    "    def __init__(self, name=\"fp2\", **kwargs):\n",
    "        super().__init__(name=name, **kwargs)\n",
    "        self.true_positives = self.add_weight(name=\"true_positives\", initializer=\"zeros\")\n",
    "        self.true_negatives = self.add_weight(name=\"true_negatives\", initializer=\"zeros\") \n",
    "        self.false_positives = self.add_weight(name=\"false_positives\", initializer=\"zeros\")\n",
    "        self.false_negatives = self.add_weight(name=\"false_negatives\", initializer=\"zeros\")\n",
    "            \n",
    "    def update_state(self, y_true, y_pred, sample_weight=None):\n",
    "        # For binary classification, threshold predictions at 0.5\n",
    "        y_pred_classes = tf.squeeze(tf.cast(y_pred > 0.5, \"float32\"))\n",
    "        y_true = tf.squeeze(tf.cast(y_true, \"float32\"))\n",
    "\n",
    "        true_positives = tf.reduce_sum(y_true * y_pred_classes)\n",
    "        true_negatives = tf.reduce_sum((1 -y_true)*(1-y_pred_classes))\n",
    "        false_positives = tf.reduce_sum(tf.cast( ((y_pred_classes == 1) & (y_true == 0)), tf.float32))\n",
    "        false_negatives = tf.reduce_sum(tf.cast( ((y_pred_classes == 0) & (y_true == 1)), tf.float32))\n",
    "        \n",
    "        self.true_positives.assign_add(true_positives)\n",
    "        self.true_negatives.assign_add(true_negatives)     \n",
    "        self.false_positives.assign_add(false_positives)     \n",
    "        self.false_negatives.assign_add(false_negatives)\n",
    "    \n",
    "    def result(self):\n",
    "        return  self.false_positives\n",
    "    \n",
    "    def reset_state(self):\n",
    "        self.true_positives.assign(0)\n",
    "        self.true_negatives.assign(0)\n",
    "        self.false_positives.assign(0)\n",
    "        self.false_negatives.assign(0)      "
   ]
  },
  {
   "cell_type": "code",
   "execution_count": 12,
   "id": "c26e5766",
   "metadata": {},
   "outputs": [],
   "source": [
    "class fn2(keras.metrics.Metric):\n",
    "    def __init__(self, name=\"fn2\", **kwargs):\n",
    "        super().__init__(name=name, **kwargs)\n",
    "        self.true_positives = self.add_weight(name=\"true_positives\", initializer=\"zeros\")\n",
    "        self.true_negatives = self.add_weight(name=\"true_negatives\", initializer=\"zeros\") \n",
    "        self.false_positives = self.add_weight(name=\"false_positives\", initializer=\"zeros\")\n",
    "        self.false_negatives = self.add_weight(name=\"false_negatives\", initializer=\"zeros\")\n",
    "            \n",
    "    def update_state(self, y_true, y_pred, sample_weight=None):\n",
    "        # For binary classification, threshold predictions at 0.5\n",
    "        y_pred_classes = tf.squeeze(tf.cast(y_pred > 0.5, \"float32\"))\n",
    "        y_true = tf.squeeze(tf.cast(y_true, \"float32\"))\n",
    "\n",
    "        true_positives = tf.reduce_sum(y_true * y_pred_classes)\n",
    "        true_negatives = tf.reduce_sum((1 -y_true)*(1-y_pred_classes))\n",
    "        false_positives = tf.reduce_sum(tf.cast( ((y_pred_classes == 1) & (y_true == 0)), tf.float32))\n",
    "        false_negatives = tf.reduce_sum(tf.cast( ((y_pred_classes == 0) & (y_true == 1)), tf.float32))\n",
    "        \n",
    "        self.true_positives.assign_add(true_positives)\n",
    "        self.true_negatives.assign_add(true_negatives)     \n",
    "        self.false_positives.assign_add(false_positives)     \n",
    "        self.false_negatives.assign_add(false_negatives)     \n",
    "    \n",
    "    def result(self):\n",
    "\n",
    "        return  self.false_negatives\n",
    "    \n",
    "    def reset_state(self):\n",
    "        self.true_positives.assign(0)\n",
    "        self.true_negatives.assign(0)\n",
    "        self.false_positives.assign(0)\n",
    "        self.false_negatives.assign(0)      "
   ]
  },
  {
   "cell_type": "code",
   "execution_count": 13,
   "id": "89da84b9",
   "metadata": {},
   "outputs": [],
   "source": [
    "# define model\n",
    "model_new = build_model()"
   ]
  },
  {
   "cell_type": "code",
   "execution_count": 14,
   "id": "0b7f725d",
   "metadata": {},
   "outputs": [],
   "source": [
    "model_new.compile(optimizer=\"rmsprop\",\n",
    "                  loss=\"binary_crossentropy\",\n",
    "                 metrics=[\"accuracy\", acc_user(), F1Score(), F1Score2(), tp(), tn(), fp2(), fn2()])"
   ]
  },
  {
   "cell_type": "code",
   "execution_count": null,
   "id": "07693d90",
   "metadata": {},
   "outputs": [],
   "source": []
  },
  {
   "cell_type": "code",
   "execution_count": 15,
   "id": "d0f12464",
   "metadata": {},
   "outputs": [
    {
     "name": "stdout",
     "output_type": "stream",
     "text": [
      "Epoch 1/20\n",
      "235/235 [==============================] - 7s 13ms/step - loss: 0.5284 - accuracy: 0.8097 - acc_user: 0.8097 - F1score_user: 0.7950 - F1score_user2: 0.7950 - tp: 5535.0000 - tn: 6611.0000 - fp2: 856.0000 - fn2: 1998.0000 - val_loss: 0.3788 - val_accuracy: 0.8745 - val_acc_user: 0.8745 - val_F1score_user: 0.8737 - val_F1score_user2: 0.8737 - val_tp: 4339.0000 - val_tn: 4406.0000 - val_fp2: 627.0000 - val_fn2: 628.0000\n",
      "Epoch 2/20\n",
      "235/235 [==============================] - 2s 7ms/step - loss: 0.2894 - accuracy: 0.9025 - acc_user: 0.9025 - F1score_user: 0.9034 - F1score_user2: 0.9034 - tp: 6843.0000 - tn: 6694.0000 - fp2: 773.0000 - fn2: 690.0000 - val_loss: 0.2820 - val_accuracy: 0.8908 - val_acc_user: 0.8908 - val_F1score_user: 0.8911 - val_F1score_user2: 0.8911 - val_tp: 4466.0000 - val_tn: 4442.0000 - val_fp2: 591.0000 - val_fn2: 501.0000\n",
      "Epoch 3/20\n",
      "235/235 [==============================] - 2s 7ms/step - loss: 0.2114 - accuracy: 0.9256 - acc_user: 0.9256 - F1score_user: 0.9264 - F1score_user2: 0.9264 - tp: 7028.0000 - tn: 6856.0000 - fp2: 611.0000 - fn2: 505.0000 - val_loss: 0.2687 - val_accuracy: 0.8927 - val_acc_user: 0.8927 - val_F1score_user: 0.8912 - val_F1score_user2: 0.8912 - val_tp: 4393.0000 - val_tn: 4534.0000 - val_fp2: 499.0000 - val_fn2: 574.0000\n",
      "Epoch 4/20\n",
      "235/235 [==============================] - 2s 8ms/step - loss: 0.1737 - accuracy: 0.9379 - acc_user: 0.9379 - F1score_user: 0.9384 - F1score_user2: 0.9384 - tp: 7103.0000 - tn: 6965.0000 - fp2: 502.0000 - fn2: 430.0000 - val_loss: 0.2733 - val_accuracy: 0.8911 - val_acc_user: 0.8911 - val_F1score_user: 0.8887 - val_F1score_user2: 0.8887 - val_tp: 4347.0000 - val_tn: 4564.0000 - val_fp2: 469.0000 - val_fn2: 620.0000\n",
      "Epoch 5/20\n",
      "235/235 [==============================] - 1s 6ms/step - loss: 0.1487 - accuracy: 0.9497 - acc_user: 0.9497 - F1score_user: 0.9499 - F1score_user2: 0.9499 - tp: 7164.0000 - tn: 7081.0000 - fp2: 386.0000 - fn2: 369.0000 - val_loss: 0.2838 - val_accuracy: 0.8903 - val_acc_user: 0.8903 - val_F1score_user: 0.8929 - val_F1score_user2: 0.8929 - val_tp: 4572.0000 - val_tn: 4331.0000 - val_fp2: 702.0000 - val_fn2: 395.0000\n",
      "Epoch 6/20\n",
      "235/235 [==============================] - 2s 8ms/step - loss: 0.1309 - accuracy: 0.9559 - acc_user: 0.9559 - F1score_user: 0.9563 - F1score_user2: 0.9563 - tp: 7226.0000 - tn: 7113.0000 - fp2: 354.0000 - fn2: 307.0000 - val_loss: 0.2933 - val_accuracy: 0.8896 - val_acc_user: 0.8896 - val_F1score_user: 0.8885 - val_F1score_user2: 0.8885 - val_tp: 4400.0000 - val_tn: 4496.0000 - val_fp2: 537.0000 - val_fn2: 567.0000\n",
      "Epoch 7/20\n",
      "235/235 [==============================] - 2s 8ms/step - loss: 0.1161 - accuracy: 0.9608 - acc_user: 0.9608 - F1score_user: 0.9611 - F1score_user2: 0.9611 - tp: 7265.0000 - tn: 7147.0000 - fp2: 320.0000 - fn2: 268.0000 - val_loss: 0.3087 - val_accuracy: 0.8863 - val_acc_user: 0.8863 - val_F1score_user: 0.8878 - val_F1score_user2: 0.8878 - val_tp: 4500.0000 - val_tn: 4363.0000 - val_fp2: 670.0000 - val_fn2: 467.0000\n",
      "Epoch 8/20\n",
      "235/235 [==============================] - 1s 6ms/step - loss: 0.1044 - accuracy: 0.9659 - acc_user: 0.9659 - F1score_user: 0.9661 - F1score_user2: 0.9661 - tp: 7294.0000 - tn: 7194.0000 - fp2: 273.0000 - fn2: 239.0000 - val_loss: 0.3259 - val_accuracy: 0.8844 - val_acc_user: 0.8844 - val_F1score_user: 0.8840 - val_F1score_user2: 0.8840 - val_tp: 4406.0000 - val_tn: 4438.0000 - val_fp2: 595.0000 - val_fn2: 561.0000\n",
      "Epoch 9/20\n",
      "235/235 [==============================] - 2s 8ms/step - loss: 0.0942 - accuracy: 0.9687 - acc_user: 0.9687 - F1score_user: 0.9689 - F1score_user2: 0.9689 - tp: 7315.0000 - tn: 7215.0000 - fp2: 252.0000 - fn2: 218.0000 - val_loss: 0.3511 - val_accuracy: 0.8810 - val_acc_user: 0.8810 - val_F1score_user: 0.8779 - val_F1score_user2: 0.8779 - val_tp: 4277.0000 - val_tn: 4533.0000 - val_fp2: 500.0000 - val_fn2: 690.0000\n",
      "Epoch 10/20\n",
      "235/235 [==============================] - 2s 7ms/step - loss: 0.0856 - accuracy: 0.9721 - acc_user: 0.9721 - F1score_user: 0.9722 - F1score_user2: 0.9722 - tp: 7325.0000 - tn: 7256.0000 - fp2: 211.0000 - fn2: 208.0000 - val_loss: 0.3683 - val_accuracy: 0.8807 - val_acc_user: 0.8807 - val_F1score_user: 0.8829 - val_F1score_user2: 0.8829 - val_tp: 4497.0000 - val_tn: 4310.0000 - val_fp2: 723.0000 - val_fn2: 470.0000\n",
      "Epoch 11/20\n",
      "235/235 [==============================] - 2s 8ms/step - loss: 0.0782 - accuracy: 0.9751 - acc_user: 0.9751 - F1score_user: 0.9752 - F1score_user2: 0.9752 - tp: 7349.0000 - tn: 7277.0000 - fp2: 190.0000 - fn2: 184.0000 - val_loss: 0.3859 - val_accuracy: 0.8793 - val_acc_user: 0.8793 - val_F1score_user: 0.8813 - val_F1score_user2: 0.8813 - val_tp: 4479.0000 - val_tn: 4314.0000 - val_fp2: 719.0000 - val_fn2: 488.0000\n",
      "Epoch 12/20\n",
      "235/235 [==============================] - 2s 8ms/step - loss: 0.0716 - accuracy: 0.9767 - acc_user: 0.9767 - F1score_user: 0.9769 - F1score_user2: 0.9769 - tp: 7364.0000 - tn: 7287.0000 - fp2: 180.0000 - fn2: 169.0000 - val_loss: 0.4092 - val_accuracy: 0.8771 - val_acc_user: 0.8771 - val_F1score_user: 0.8791 - val_F1score_user2: 0.8791 - val_tp: 4467.0000 - val_tn: 4304.0000 - val_fp2: 729.0000 - val_fn2: 500.0000\n",
      "Epoch 13/20\n",
      "235/235 [==============================] - 2s 7ms/step - loss: 0.0656 - accuracy: 0.9792 - acc_user: 0.9792 - F1score_user: 0.9793 - F1score_user2: 0.9793 - tp: 7371.0000 - tn: 7317.0000 - fp2: 150.0000 - fn2: 162.0000 - val_loss: 0.4287 - val_accuracy: 0.8745 - val_acc_user: 0.8745 - val_F1score_user: 0.8742 - val_F1score_user2: 0.8742 - val_tp: 4362.0000 - val_tn: 4383.0000 - val_fp2: 650.0000 - val_fn2: 605.0000\n",
      "Epoch 14/20\n",
      "235/235 [==============================] - 1s 6ms/step - loss: 0.0597 - accuracy: 0.9814 - acc_user: 0.9814 - F1score_user: 0.9815 - F1score_user2: 0.9815 - tp: 7389.0000 - tn: 7332.0000 - fp2: 135.0000 - fn2: 144.0000 - val_loss: 0.4574 - val_accuracy: 0.8723 - val_acc_user: 0.8723 - val_F1score_user: 0.8694 - val_F1score_user2: 0.8694 - val_tp: 4250.0000 - val_tn: 4473.0000 - val_fp2: 560.0000 - val_fn2: 717.0000\n",
      "Epoch 15/20\n",
      "235/235 [==============================] - 2s 7ms/step - loss: 0.0542 - accuracy: 0.9831 - acc_user: 0.9831 - F1score_user: 0.9831 - F1score_user2: 0.9831 - tp: 7404.0000 - tn: 7342.0000 - fp2: 125.0000 - fn2: 129.0000 - val_loss: 0.4766 - val_accuracy: 0.8727 - val_acc_user: 0.8727 - val_F1score_user: 0.8731 - val_F1score_user2: 0.8731 - val_tp: 4381.0000 - val_tn: 4346.0000 - val_fp2: 687.0000 - val_fn2: 586.0000\n",
      "Epoch 16/20\n",
      "235/235 [==============================] - 2s 7ms/step - loss: 0.0492 - accuracy: 0.9851 - acc_user: 0.9851 - F1score_user: 0.9851 - F1score_user2: 0.9851 - tp: 7420.0000 - tn: 7356.0000 - fp2: 111.0000 - fn2: 113.0000 - val_loss: 0.4967 - val_accuracy: 0.8704 - val_acc_user: 0.8704 - val_F1score_user: 0.8711 - val_F1score_user2: 0.8711 - val_tp: 4379.0000 - val_tn: 4325.0000 - val_fp2: 708.0000 - val_fn2: 588.0000\n",
      "Epoch 17/20\n",
      "235/235 [==============================] - 2s 7ms/step - loss: 0.0450 - accuracy: 0.9867 - acc_user: 0.9867 - F1score_user: 0.9868 - F1score_user2: 0.9868 - tp: 7437.0000 - tn: 7364.0000 - fp2: 103.0000 - fn2: 96.0000 - val_loss: 0.5189 - val_accuracy: 0.8687 - val_acc_user: 0.8687 - val_F1score_user: 0.8682 - val_F1score_user2: 0.8682 - val_tp: 4324.0000 - val_tn: 4363.0000 - val_fp2: 670.0000 - val_fn2: 643.0000\n",
      "Epoch 18/20\n",
      "235/235 [==============================] - 2s 7ms/step - loss: 0.0407 - accuracy: 0.9874 - acc_user: 0.9874 - F1score_user: 0.9875 - F1score_user2: 0.9875 - tp: 7439.0000 - tn: 7372.0000 - fp2: 95.0000 - fn2: 94.0000 - val_loss: 0.5506 - val_accuracy: 0.8662 - val_acc_user: 0.8662 - val_F1score_user: 0.8692 - val_F1score_user2: 0.8692 - val_tp: 4444.0000 - val_tn: 4218.0000 - val_fp2: 815.0000 - val_fn2: 523.0000\n",
      "Epoch 19/20\n",
      "235/235 [==============================] - 2s 6ms/step - loss: 0.0370 - accuracy: 0.9895 - acc_user: 0.9895 - F1score_user: 0.9896 - F1score_user2: 0.9896 - tp: 7456.0000 - tn: 7387.0000 - fp2: 80.0000 - fn2: 77.0000 - val_loss: 0.5700 - val_accuracy: 0.8674 - val_acc_user: 0.8674 - val_F1score_user: 0.8655 - val_F1score_user2: 0.8655 - val_tp: 4265.0000 - val_tn: 4409.0000 - val_fp2: 624.0000 - val_fn2: 702.0000\n",
      "Epoch 20/20\n"
     ]
    },
    {
     "name": "stdout",
     "output_type": "stream",
     "text": [
      "235/235 [==============================] - 2s 7ms/step - loss: 0.0334 - accuracy: 0.9897 - acc_user: 0.9897 - F1score_user: 0.9898 - F1score_user2: 0.9898 - tp: 7459.0000 - tn: 7387.0000 - fp2: 80.0000 - fn2: 74.0000 - val_loss: 0.5932 - val_accuracy: 0.8650 - val_acc_user: 0.8650 - val_F1score_user: 0.8634 - val_F1score_user2: 0.8634 - val_tp: 4266.0000 - val_tn: 4384.0000 - val_fp2: 649.0000 - val_fn2: 701.0000\n"
     ]
    }
   ],
   "source": [
    "history_new = model_new.fit(\n",
    "    train_data, train_labels,\n",
    "    epochs=20, batch_size=64, validation_split=0.4\n",
    ")"
   ]
  },
  {
   "cell_type": "code",
   "execution_count": 16,
   "id": "58c9fb84",
   "metadata": {
    "scrolled": false
   },
   "outputs": [],
   "source": [
    "# history_new = model_new.fit(\n",
    "#     train_data, train_labels,\n",
    "#     epochs=20, batch_size=4, validation_split=0.4\n",
    "# )"
   ]
  },
  {
   "cell_type": "code",
   "execution_count": 17,
   "id": "c8d2aced",
   "metadata": {},
   "outputs": [
    {
     "data": {
      "text/plain": [
       "3"
      ]
     },
     "execution_count": 17,
     "metadata": {},
     "output_type": "execute_result"
    }
   ],
   "source": [
    "a = tf.constant([[0.5],[1],[1]], dtype=\"float32\")\n",
    "a.shape[0]"
   ]
  },
  {
   "cell_type": "code",
   "execution_count": 18,
   "id": "f2d4c552",
   "metadata": {},
   "outputs": [
    {
     "data": {
      "text/plain": [
       "<tf.Tensor: shape=(3, 1), dtype=float32, numpy=\n",
       "array([[0.5],\n",
       "       [0. ],\n",
       "       [0. ]], dtype=float32)>"
      ]
     },
     "execution_count": 18,
     "metadata": {},
     "output_type": "execute_result"
    }
   ],
   "source": [
    "1 - a"
   ]
  },
  {
   "cell_type": "code",
   "execution_count": 19,
   "id": "a51231c7",
   "metadata": {},
   "outputs": [],
   "source": [
    "s = tf.reduce_sum(a)"
   ]
  },
  {
   "cell_type": "code",
   "execution_count": 20,
   "id": "22374a01",
   "metadata": {},
   "outputs": [
    {
     "data": {
      "text/plain": [
       "<tf.Tensor: shape=(), dtype=float32, numpy=2.5>"
      ]
     },
     "execution_count": 20,
     "metadata": {},
     "output_type": "execute_result"
    }
   ],
   "source": [
    "s"
   ]
  },
  {
   "cell_type": "code",
   "execution_count": 21,
   "id": "5cb00f33",
   "metadata": {},
   "outputs": [
    {
     "data": {
      "text/plain": [
       "<tf.Tensor: shape=(7,), dtype=int32, numpy=array([0, 1, 0, 1, 1, 0, 0], dtype=int32)>"
      ]
     },
     "execution_count": 21,
     "metadata": {},
     "output_type": "execute_result"
    }
   ],
   "source": [
    "b = tf.constant([0, 1, 0, 1, 1, 1, 0])\n",
    "c = tf.constant([0, 1, 1, 1, 1, 0, 1])\n",
    "\n",
    "b & c"
   ]
  },
  {
   "cell_type": "code",
   "execution_count": 22,
   "id": "dfccf069",
   "metadata": {},
   "outputs": [
    {
     "data": {
      "text/plain": [
       "<tf.Tensor: shape=(7,), dtype=bool, numpy=array([False,  True, False,  True,  True, False, False])>"
      ]
     },
     "execution_count": 22,
     "metadata": {},
     "output_type": "execute_result"
    }
   ],
   "source": [
    "d = tf.constant([False, True, False, True, True, True, False], dtype=bool)\n",
    "e = tf.constant([False, True, True, True, True, False, True], dtype=bool)\n",
    "d & e"
   ]
  },
  {
   "cell_type": "code",
   "execution_count": 23,
   "id": "5064d826",
   "metadata": {},
   "outputs": [
    {
     "data": {
      "text/plain": [
       "<tf.Tensor: shape=(7,), dtype=bool, numpy=array([False,  True, False,  True,  True, False, False])>"
      ]
     },
     "execution_count": 23,
     "metadata": {},
     "output_type": "execute_result"
    }
   ],
   "source": [
    "#tf.reduce_sum(tf.cast( ((y_pred_classes == 1) and (y_true == 0)), tf.float32))\n",
    "d & e"
   ]
  },
  {
   "cell_type": "code",
   "execution_count": 24,
   "id": "277abebf",
   "metadata": {},
   "outputs": [
    {
     "data": {
      "text/plain": [
       "<tf.Tensor: shape=(7,), dtype=bool, numpy=array([False,  True,  True,  True,  True, False,  True])>"
      ]
     },
     "execution_count": 24,
     "metadata": {},
     "output_type": "execute_result"
    }
   ],
   "source": [
    "(c == 1) "
   ]
  },
  {
   "cell_type": "code",
   "execution_count": 25,
   "id": "db8c5a6a",
   "metadata": {},
   "outputs": [
    {
     "data": {
      "text/plain": [
       "<tf.Tensor: shape=(7,), dtype=bool, numpy=array([ True, False,  True, False, False, False,  True])>"
      ]
     },
     "execution_count": 25,
     "metadata": {},
     "output_type": "execute_result"
    }
   ],
   "source": [
    "(b == 0)"
   ]
  },
  {
   "cell_type": "code",
   "execution_count": 26,
   "id": "63c389f1",
   "metadata": {},
   "outputs": [
    {
     "data": {
      "text/plain": [
       "<tf.Tensor: shape=(7,), dtype=bool, numpy=array([False, False,  True, False, False, False,  True])>"
      ]
     },
     "execution_count": 26,
     "metadata": {},
     "output_type": "execute_result"
    }
   ],
   "source": [
    "(c == 1) & (b == 0)"
   ]
  },
  {
   "cell_type": "code",
   "execution_count": 27,
   "id": "96afacb8",
   "metadata": {
    "scrolled": false
   },
   "outputs": [
    {
     "name": "stdout",
     "output_type": "stream",
     "text": [
      "Package                       Version\n",
      "----------------------------- ------------------\n",
      "absl-py                       0.15.0\n",
      "aiohttp                       3.8.1\n",
      "aiosignal                     1.2.0\n",
      "albumentations                1.1.0\n",
      "antlr4-python3-runtime        4.8\n",
      "anyio                         3.5.0\n",
      "appdirs                       1.4.4\n",
      "argon2-cffi                   21.3.0\n",
      "argon2-cffi-bindings          21.2.0\n",
      "asttokens                     2.0.5\n",
      "astunparse                    1.6.3\n",
      "async-generator               1.10\n",
      "async-timeout                 4.0.2\n",
      "attrs                         21.4.0\n",
      "audioread                     2.1.9\n",
      "backcall                      0.2.0\n",
      "backports.functools-lru-cache 1.6.4\n",
      "beautifulsoup4                4.6.0\n",
      "black                         22.1.0\n",
      "bleach                        4.1.0\n",
      "branca                        0.4.2\n",
      "brotlipy                      0.7.0\n",
      "cachetools                    5.0.0\n",
      "certifi                       2021.10.8\n",
      "cffi                          1.15.0\n",
      "chardet                       3.0.4\n",
      "charset-normalizer            2.0.12\n",
      "clang                         5.0\n",
      "click                         8.0.3\n",
      "click-plugins                 1.1.1\n",
      "cligj                         0.7.2\n",
      "cloudpickle                   2.0.0\n",
      "cmake                         3.21.3\n",
      "colorama                      0.4.4\n",
      "conda                         4.11.0\n",
      "conda-build                   3.21.8\n",
      "conda-package-handling        1.7.3\n",
      "cryptography                  36.0.1\n",
      "cssselect                     1.1.0\n",
      "customized-konlpy             0.0.64\n",
      "cycler                        0.11.0\n",
      "Cython                        0.29.28\n",
      "dataclasses                   0.6\n",
      "datasets                      1.14.0\n",
      "debugpy                       1.5.1\n",
      "decorator                     4.4.2\n",
      "defusedxml                    0.7.1\n",
      "delayed                       0.11.0b1\n",
      "Deprecated                    1.2.13\n",
      "dill                          0.3.4\n",
      "dlib                          19.22.1\n",
      "docutils                      0.18.1\n",
      "editdistance                  0.6.0\n",
      "efficientnet                  1.0.0\n",
      "efficientnet-pytorch          0.7.1\n",
      "entrypoints                   0.4\n",
      "essential-generators          1.0\n",
      "executing                     0.8.3\n",
      "face-recognition              1.3.0\n",
      "face-recognition-models       0.3.0\n",
      "feedfinder2                   0.0.4\n",
      "feedparser                    6.0.8\n",
      "filelock                      3.6.0\n",
      "Fiona                         1.8.21\n",
      "Flask                         2.0.2\n",
      "flask-ngrok                   0.0.25\n",
      "flatbuffers                   1.12\n",
      "flit_core                     3.7.1\n",
      "folium                        0.12.1\n",
      "fonttools                     4.29.1\n",
      "frozenlist                    1.3.0\n",
      "fsspec                        2022.2.0\n",
      "future                        0.18.2\n",
      "fvcore                        0.1.5.post20220305\n",
      "gast                          0.4.0\n",
      "gensim                        4.1.2\n",
      "geopandas                     0.10.1\n",
      "glob2                         0.7\n",
      "google-api-core               2.6.0\n",
      "google-api-python-client      2.26.1\n",
      "google-auth                   2.6.0\n",
      "google-auth-httplib2          0.1.0\n",
      "google-auth-oauthlib          0.4.6\n",
      "google-cloud-vision           2.5.0\n",
      "google-pasta                  0.2.0\n",
      "googleapis-common-protos      1.55.0\n",
      "googletrans                   3.0.0\n",
      "grpcio                        1.44.0\n",
      "grpcio-status                 1.44.0\n",
      "h11                           0.9.0\n",
      "h2                            3.2.0\n",
      "h3                            3.7.3\n",
      "h5py                          3.1.0\n",
      "hiredis                       2.0.0\n",
      "hpack                         3.0.0\n",
      "hstspreload                   2021.12.1\n",
      "httpcore                      0.9.1\n",
      "httplib2                      0.20.4\n",
      "httpx                         0.13.3\n",
      "huggingface-hub               0.0.19\n",
      "hydra-core                    1.1.1\n",
      "hyperframe                    5.2.0\n",
      "idna                          2.10\n",
      "imageio                       2.9.0\n",
      "imageio-ffmpeg                0.4.5\n",
      "imantics                      0.1.12\n",
      "imbalanced-learn              0.8.1\n",
      "imgaug                        0.4.0\n",
      "implicit                      0.4.8\n",
      "importlib-metadata            4.11.2\n",
      "importlib-resources           5.4.0\n",
      "iopath                        0.1.9\n",
      "ipykernel                     6.9.1\n",
      "ipython                       7.28.0\n",
      "ipython-genutils              0.2.0\n",
      "ipywidgets                    7.6.5\n",
      "itsdangerous                  2.1.0\n",
      "jedi                          0.18.1\n",
      "jieba3k                       0.35.1\n",
      "Jinja2                        3.0.3\n",
      "joblib                        1.1.0\n",
      "JPype1                        1.3.0\n",
      "jsonpickle                    2.1.0\n",
      "jsonschema                    4.4.0\n",
      "jupyter-client                7.1.2\n",
      "jupyter-core                  4.9.2\n",
      "jupyter-desktop-server        0.1.3\n",
      "jupyter-server                1.13.5\n",
      "jupyter-server-proxy          3.2.1\n",
      "jupyterlab-pygments           0.1.2\n",
      "jupyterlab-widgets            1.0.2\n",
      "keras                         2.6.0\n",
      "Keras-Applications            1.0.8\n",
      "keras-ocr                     0.8.8\n",
      "Keras-Preprocessing           1.1.2\n",
      "kiwisolver                    1.3.2\n",
      "konlpy                        0.5.2\n",
      "labelme2coco                  0.1.2\n",
      "libarchive-c                  4.0\n",
      "librosa                       0.8.1\n",
      "lightgbm                      3.3.0\n",
      "llvmlite                      0.38.0\n",
      "lmdb                          1.2.1\n",
      "loguru                        0.5.3\n",
      "lxml                          4.6.3\n",
      "Markdown                      3.3.6\n",
      "MarkupSafe                    2.1.0\n",
      "matplotlib                    3.4.3\n",
      "matplotlib-inline             0.1.3\n",
      "matplotlib-venn               0.11.6\n",
      "mecab-python                  0.996-ko-0.9.2\n",
      "mido                          1.2.10\n",
      "missingno                     0.5.0\n",
      "mistune                       0.8.4\n",
      "moviepy                       1.0.3\n",
      "msgpack                       1.0.3\n",
      "multidict                     6.0.2\n",
      "multiprocess                  0.70.12.2\n",
      "munch                         2.5.0\n",
      "mypy-extensions               0.4.3\n",
      "nbclient                      0.5.12\n",
      "nbconvert                     6.4.2\n",
      "nbformat                      5.1.3\n",
      "nest-asyncio                  1.5.4\n",
      "networkx                      2.6.3\n",
      "newspaper3k                   0.2.8\n",
      "nltk                          3.6.5\n",
      "notebook                      6.1.6\n",
      "numba                         0.55.1\n",
      "numpy                         1.22.2\n",
      "oauthlib                      3.2.0\n",
      "omegaconf                     2.1.1\n",
      "opencv-contrib-python         4.5.3.56\n",
      "opencv-python                 4.5.3.56\n",
      "opencv-python-headless        4.5.5.62\n",
      "opt-einsum                    3.3.0\n",
      "outcome                       1.1.0\n",
      "packaging                     21.3\n",
      "pandas                        1.3.3\n",
      "pandocfilters                 1.5.0\n",
      "parso                         0.8.3\n",
      "pathspec                      0.9.0\n",
      "patsy                         0.5.2\n",
      "pexpect                       4.8.0\n",
      "pickleshare                   0.7.5\n",
      "Pillow                        8.3.2\n",
      "pip                           22.0.3\n",
      "pixellib                      0.7.1\n",
      "pkginfo                       1.8.2\n",
      "platformdirs                  2.5.1\n",
      "pmdarima                      1.8.3\n",
      "pooch                         1.6.0\n",
      "portalocker                   2.4.0\n",
      "proglog                       0.1.9\n",
      "prometheus-client             0.13.1\n",
      "promise                       2.3\n",
      "prompt-toolkit                3.0.27\n",
      "proto-plus                    1.20.3\n",
      "protobuf                      3.19.4\n",
      "psutil                        5.9.0\n",
      "ptyprocess                    0.7.0\n",
      "pure-eval                     0.2.2\n",
      "py4j                          0.10.9\n",
      "pyarrow                       7.0.0\n",
      "pyasn1                        0.4.8\n",
      "pyasn1-modules                0.2.8\n",
      "pyclipper                     1.3.0.post2\n",
      "pycosat                       0.6.3\n",
      "pycparser                     2.21\n",
      "pydot                         1.4.2\n",
      "pydotplus                     2.0.2\n",
      "Pygments                      2.11.2\n",
      "pyOpenSSL                     22.0.0\n",
      "pyparsing                     3.0.7\n",
      "pyproj                        3.2.1\n",
      "PyQt5                         5.15.6\n",
      "PyQt5-Qt5                     5.15.2\n",
      "PyQt5-sip                     12.9.1\n",
      "pyrsistent                    0.18.1\n",
      "PySocks                       1.7.1\n",
      "pyspark                       3.1.2\n",
      "pytesseract                   0.3.8\n",
      "python-dateutil               2.8.2\n",
      "python-Levenshtein            0.12.2\n",
      "pytz                          2021.3\n",
      "pyvis                         0.1.9\n",
      "PyWavelets                    1.2.0\n",
      "PyYAML                        6.0\n",
      "pyzmq                         22.3.0\n",
      "qudida                        0.0.4\n",
      "ray                           1.7.0\n",
      "redis                         4.1.4\n",
      "regex                         2022.3.2\n",
      "requests                      2.26.0\n",
      "requests-file                 1.5.1\n",
      "requests-oauthlib             1.3.1\n",
      "resampy                       0.2.2\n",
      "rfc3986                       1.5.0\n",
      "rsa                           4.8\n",
      "ruamel-yaml-conda             0.15.80\n",
      "sacremoses                    0.0.47\n",
      "scikit-image                  0.18.3\n",
      "scikit-learn                  1.0\n",
      "scipy                         1.7.1\n",
      "seaborn                       0.11.2\n",
      "selenium                      4.0.0\n",
      "Send2Trash                    1.8.0\n",
      "sentencepiece                 0.1.96\n",
      "setuptools                    60.9.3\n",
      "sgmllib3k                     1.0.0\n",
      "Shapely                       1.7.1\n",
      "simpervisor                   0.4\n",
      "six                           1.16.0\n",
      "smart-open                    5.2.1\n",
      "sniffio                       1.2.0\n",
      "sortedcontainers              2.4.0\n",
      "SoundFile                     0.10.3.post1\n",
      "soupsieve                     2.3.1\n",
      "soynlp                        0.0.493\n",
      "stack-data                    0.2.0\n",
      "statistics                    1.0.3.5\n",
      "statsmodels                   0.13.0\n",
      "summa                         1.2.0\n",
      "tabulate                      0.8.9\n",
      "tensorboard                   2.8.0\n",
      "tensorboard-data-server       0.6.1\n",
      "tensorboard-plugin-wit        1.8.1\n",
      "tensorflow                    2.6.0\n",
      "tensorflow-addons             0.14.0\n",
      "tensorflow-datasets           4.4.0\n",
      "tensorflow-estimator          2.8.0\n",
      "tensorflow-hub                0.12.0\n",
      "tensorflow-metadata           1.7.0\n",
      "termcolor                     1.1.0\n",
      "terminado                     0.13.2\n",
      "testpath                      0.6.0\n",
      "threadpoolctl                 3.1.0\n",
      "tifffile                      2022.2.9\n",
      "tinysegmenter                 0.3\n",
      "tldextract                    3.2.0\n",
      "tokenizers                    0.10.3\n",
      "tomli                         2.0.1\n",
      "torch                         1.9.1+rocm4.2\n",
      "torchaudio                    0.9.1\n",
      "torchvision                   0.10.1+rocm4.2\n",
      "tornado                       6.1\n",
      "tqdm                          4.62.3\n",
      "traitlets                     5.1.1\n",
      "transformers                  4.11.3\n",
      "trio                          0.20.0\n",
      "trio-websocket                0.9.2\n",
      "tweepy                        3.10.0\n",
      "typeguard                     2.13.3\n",
      "typing_extensions             4.1.1\n",
      "uritemplate                   4.1.1\n",
      "urllib3                       1.26.7\n",
      "validators                    0.18.2\n",
      "wcwidth                       0.2.5\n",
      "webencodings                  0.5.1\n",
      "websocket-client              1.3.1\n",
      "websockify                    0.10.0\n",
      "Werkzeug                      2.0.3\n",
      "wget                          3.2\n",
      "wheel                         0.37.1\n",
      "widgetsnbextension            3.5.2\n",
      "wordcloud                     1.8.1\n",
      "wrapt                         1.12.1\n",
      "wsproto                       1.1.0\n",
      "xgboost                       1.4.2\n",
      "xmljson                       0.2.1\n",
      "xxhash                        3.0.0\n",
      "yacs                          0.1.8\n",
      "yarl                          1.7.2\n",
      "zipp                          3.7.0\n"
     ]
    }
   ],
   "source": [
    "!pip list"
   ]
  },
  {
   "cell_type": "code",
   "execution_count": 28,
   "id": "201c957b",
   "metadata": {},
   "outputs": [
    {
     "name": "stdout",
     "output_type": "stream",
     "text": [
      "tf.Tensor([0 1 1 1 1 0 1], shape=(7,), dtype=int32)\n"
     ]
    }
   ],
   "source": [
    "import tensorflow as tf\n",
    "f = tf.constant([0, 1, 1, 1, 1, 0, 1])\n",
    "f = tf.squeeze(f)\n",
    "print(f)"
   ]
  },
  {
   "cell_type": "code",
   "execution_count": 29,
   "id": "ce988df6",
   "metadata": {},
   "outputs": [
    {
     "name": "stdout",
     "output_type": "stream",
     "text": [
      "tf.Tensor([0 1 1 1 1 0 1], shape=(7,), dtype=int32)\n"
     ]
    }
   ],
   "source": [
    "g = tf.constant([[0], [1], [1], [1], [1], [0], [1]])\n",
    "g = tf.squeeze(g)\n",
    "print(g)"
   ]
  },
  {
   "cell_type": "code",
   "execution_count": null,
   "id": "07dbb7f1",
   "metadata": {},
   "outputs": [],
   "source": []
  }
 ],
 "metadata": {
  "kernelspec": {
   "display_name": "Python 3 (ipykernel)",
   "language": "python",
   "name": "python3"
  },
  "language_info": {
   "codemirror_mode": {
    "name": "ipython",
    "version": 3
   },
   "file_extension": ".py",
   "mimetype": "text/x-python",
   "name": "python",
   "nbconvert_exporter": "python",
   "pygments_lexer": "ipython3",
   "version": "3.9.7"
  }
 },
 "nbformat": 4,
 "nbformat_minor": 5
}
