{
 "cells": [
  {
   "cell_type": "code",
   "execution_count": 1,
   "id": "a3ba7cd8",
   "metadata": {},
   "outputs": [],
   "source": [
    "# preliminary\n",
    "from tensorflow.keras.datasets import imdb\n",
    "from tensorflow import keras\n",
    "from tensorflow.keras import layers \n",
    "import numpy as np\n",
    "import tensorflow as tf"
   ]
  },
  {
   "cell_type": "code",
   "execution_count": 2,
   "id": "be55c5e8",
   "metadata": {},
   "outputs": [],
   "source": [
    "# load imdb data\n",
    "(train_data, train_labels), _ = imdb.load_data(num_words=10000)"
   ]
  },
  {
   "cell_type": "code",
   "execution_count": 3,
   "id": "1d17c8f8",
   "metadata": {},
   "outputs": [],
   "source": [
    "# \n",
    "def vectorize_sequences(sequences, dimension=10000):\n",
    "    results = np.zeros((len(sequences), dimension))\n",
    "    for i, sequence in enumerate(sequences):\n",
    "        results[i, sequence] = 1.\n",
    "    return results\n",
    "\n",
    "train_data = vectorize_sequences(train_data)\n",
    "\n",
    "# define model\n",
    "def build_model():\n",
    "    model = keras.Sequential([\n",
    "        layers.Dense(4, activation=\"relu\"),\n",
    "        layers.Dense(4, activation=\"relu\"),\n",
    "        layers.Dense(1, activation=\"sigmoid\")\n",
    "    ])\n",
    "    return model"
   ]
  },
  {
   "cell_type": "code",
   "execution_count": 4,
   "id": "32c35042",
   "metadata": {},
   "outputs": [
    {
     "name": "stdout",
     "output_type": "stream",
     "text": [
      "[1 0 0 ... 0 1 0]\n"
     ]
    }
   ],
   "source": [
    "print(train_labels)"
   ]
  },
  {
   "cell_type": "code",
   "execution_count": 5,
   "id": "fe25fd99",
   "metadata": {},
   "outputs": [],
   "source": [
    "class RootMeanSquaredError(keras.metrics.Metric):\n",
    "    def __init__(self, name=\"rmse\", **kwargs):\n",
    "        super().__init__(name=name, **kwargs)\n",
    "        self.mse_sum = self.add_weight(name=\"mse_sum\", initializer=\"zeros\")\n",
    "        self.total_samples = self.add_weight(\n",
    "            name=\"total_samples\", initializer=\"zeros\", dtype=\"int32\"\n",
    "        )\n",
    "    \n",
    "    def update_state(self, y_true, y_pred, sample_weight=None):\n",
    "        y_true = tf.one_hot(y_true, depth=tf.shape(y_pred)[1])\n",
    "        mse = tf.reduce_sum(tf.square(y_true - y_pred))\n",
    "        self.mse_sum.assign_add(mse)\n",
    "        num_samples = tf.shape(y_pred)[0]\n",
    "        self.total_samples.assign_add(num_samples)\n",
    "    \n",
    "    def result(self):\n",
    "        return tf.sqrt(self.mse_sum / tf.cast(self.total_samples, tf.float32))\n",
    "    \n",
    "    def reset_state(self):\n",
    "        self.mse_sum.assign(0.)\n",
    "        self.total_samples.assign(0)"
   ]
  },
  {
   "cell_type": "code",
   "execution_count": 6,
   "id": "d00d88aa",
   "metadata": {},
   "outputs": [],
   "source": [
    "class F1Score(keras.metrics.Metric):\n",
    "    def __init__(self, name=\"F1score_User\", **kwargs):\n",
    "        super().__init__(name=name, **kwargs)\n",
    "        self.true_positives = self.add_weight(name=\"true_positives\", initializer=\"zeros\")\n",
    "        self.predicted_positives = self.add_weight(name=\"predicted_positives\", initializer=\"zeros\") \n",
    "        self.actual_positives = self.add_weight(name=\"actual_positives\", initializer=\"zeros\")\n",
    "            \n",
    "    def update_state(self, y_true, y_pred, sample_weight=None):\n",
    "        # For binary classification, threshold predictions at 0.5\n",
    "        y_pred_classes = tf.cast(y_pred > 0.5, \"float32\")\n",
    "        y_true = tf.cast(y_true, \"float32\")\n",
    "\n",
    "        actual_positives = tf.reduce_sum(y_true)\n",
    "        true_positives = tf.reduce_sum(y_true * y_pred_classes)\n",
    "        predicted_positives = tf.reduce_sum(y_pred_classes)\n",
    "        \n",
    "        self.true_positives.assign_add(true_positives)\n",
    "        self.predicted_positives.assign_add(predicted_positives)     \n",
    "        self.actual_positives.assign_add(predicted_positives)     \n",
    "    \n",
    "    def result(self):\n",
    "        precision = ( tf.cast(self.true_positives, tf.float32) \n",
    "              / tf.cast(self.actual_positives, tf.float32) + tf.keras.backend.epsilon())\n",
    "        recall = ( tf.cast(self.true_positives, tf.float32) \n",
    "              / tf.cast(self.actual_positives, tf.float32) + tf.keras.backend.epsilon())\n",
    "        return  (2 * recall * precision) / (recall + precision + tf.keras.backend.epsilon())\n",
    "    \n",
    "    def reset_state(self):\n",
    "        self.true_positives.assign(0)\n",
    "        self.predicted_positives.assign(0)\n",
    "        self.actual_positives.assign(0)\n",
    "                "
   ]
  },
  {
   "cell_type": "code",
   "execution_count": 7,
   "id": "ca6af518",
   "metadata": {},
   "outputs": [],
   "source": [
    "# define model\n",
    "model_new = build_model()"
   ]
  },
  {
   "cell_type": "code",
   "execution_count": 8,
   "id": "166c4b01",
   "metadata": {},
   "outputs": [],
   "source": [
    "model_new.compile(optimizer=\"rmsprop\",\n",
    "                  loss=\"binary_crossentropy\",\n",
    "                 metrics=[\"accuracy\", F1Score()])"
   ]
  },
  {
   "cell_type": "code",
   "execution_count": null,
   "id": "20d2768b",
   "metadata": {},
   "outputs": [
    {
     "name": "stdout",
     "output_type": "stream",
     "text": [
      "Epoch 1/20\n",
      "3750/3750 [==============================] - 13s 3ms/step - loss: 0.3641 - accuracy: 0.8499 - F1score_User: 0.8537 - val_loss: 0.2911 - val_accuracy: 0.8903 - val_F1score_User: 0.8652\n",
      "Epoch 2/20\n",
      "3750/3750 [==============================] - 9s 2ms/step - loss: 0.2419 - accuracy: 0.9113 - F1score_User: 0.9068 - val_loss: 0.2985 - val_accuracy: 0.8929 - val_F1score_User: 0.8691\n",
      "Epoch 3/20\n",
      "3750/3750 [==============================] - 9s 2ms/step - loss: 0.2149 - accuracy: 0.9219 - F1score_User: 0.9179 - val_loss: 0.3052 - val_accuracy: 0.8931 - val_F1score_User: 0.8876\n",
      "Epoch 4/20\n",
      "3750/3750 [==============================] - 9s 2ms/step - loss: 0.1977 - accuracy: 0.9283 - F1score_User: 0.9234 - val_loss: 0.3156 - val_accuracy: 0.8905 - val_F1score_User: 0.8793\n",
      "Epoch 5/20\n",
      "3750/3750 [==============================] - 9s 2ms/step - loss: 0.1897 - accuracy: 0.9335 - F1score_User: 0.9283 - val_loss: 0.3224 - val_accuracy: 0.8908 - val_F1score_User: 0.8850\n",
      "Epoch 6/20\n",
      "3750/3750 [==============================] - 9s 2ms/step - loss: 0.1822 - accuracy: 0.9357 - F1score_User: 0.9311 - val_loss: 0.3335 - val_accuracy: 0.8892 - val_F1score_User: 0.9004\n",
      "Epoch 7/20\n",
      "3750/3750 [==============================] - 9s 2ms/step - loss: 0.1762 - accuracy: 0.9397 - F1score_User: 0.9356 - val_loss: 0.3326 - val_accuracy: 0.8901 - val_F1score_User: 0.8840\n",
      "Epoch 8/20\n",
      "3750/3750 [==============================] - 9s 2ms/step - loss: 0.1702 - accuracy: 0.9395 - F1score_User: 0.9371 - val_loss: 0.3699 - val_accuracy: 0.8839 - val_F1score_User: 0.9100\n",
      "Epoch 9/20\n",
      "3750/3750 [==============================] - 9s 2ms/step - loss: 0.1678 - accuracy: 0.9430 - F1score_User: 0.9380 - val_loss: 0.3457 - val_accuracy: 0.8887 - val_F1score_User: 0.8896\n",
      "Epoch 10/20\n",
      "3750/3750 [==============================] - 9s 2ms/step - loss: 0.1652 - accuracy: 0.9425 - F1score_User: 0.9382 - val_loss: 0.3570 - val_accuracy: 0.8880 - val_F1score_User: 0.8928\n",
      "Epoch 11/20\n",
      "3750/3750 [==============================] - 9s 2ms/step - loss: 0.1622 - accuracy: 0.9438 - F1score_User: 0.9401 - val_loss: 0.3538 - val_accuracy: 0.8881 - val_F1score_User: 0.8759\n",
      "Epoch 12/20\n",
      "3750/3750 [==============================] - 9s 2ms/step - loss: 0.1608 - accuracy: 0.9453 - F1score_User: 0.9410 - val_loss: 0.3635 - val_accuracy: 0.8857 - val_F1score_User: 0.8931\n",
      "Epoch 13/20\n",
      "3750/3750 [==============================] - 9s 2ms/step - loss: 0.1596 - accuracy: 0.9453 - F1score_User: 0.9412 - val_loss: 0.3636 - val_accuracy: 0.8866 - val_F1score_User: 0.8647\n",
      "Epoch 14/20\n",
      "3750/3750 [==============================] - 9s 2ms/step - loss: 0.1558 - accuracy: 0.9468 - F1score_User: 0.9418 - val_loss: 0.3782 - val_accuracy: 0.8850 - val_F1score_User: 0.8832\n",
      "Epoch 15/20\n",
      "3750/3750 [==============================] - 9s 2ms/step - loss: 0.1552 - accuracy: 0.9477 - F1score_User: 0.9433 - val_loss: 0.3733 - val_accuracy: 0.8870 - val_F1score_User: 0.8697\n",
      "Epoch 16/20\n",
      "3750/3750 [==============================] - 8s 2ms/step - loss: 0.1543 - accuracy: 0.9480 - F1score_User: 0.9445 - val_loss: 0.3962 - val_accuracy: 0.8828 - val_F1score_User: 0.8925\n",
      "Epoch 17/20\n",
      "3750/3750 [==============================] - 12s 3ms/step - loss: 0.1530 - accuracy: 0.9492 - F1score_User: 0.9443 - val_loss: 0.4102 - val_accuracy: 0.8813 - val_F1score_User: 0.9009\n",
      "Epoch 18/20\n",
      "3738/3750 [============================>.] - ETA: 0s - loss: 0.1521 - accuracy: 0.9492 - F1score_User: 0.9454"
     ]
    }
   ],
   "source": [
    "history_new = model_new.fit(\n",
    "    train_data, train_labels,\n",
    "    epochs=20, batch_size=4, validation_split=0.4\n",
    ")"
   ]
  },
  {
   "cell_type": "code",
   "execution_count": null,
   "id": "ee23176f",
   "metadata": {},
   "outputs": [],
   "source": [
    "a = tf.constant([[0.5],[1],[1]], dtype=\"float32\")\n"
   ]
  },
  {
   "cell_type": "code",
   "execution_count": null,
   "id": "e29eedcd",
   "metadata": {},
   "outputs": [],
   "source": [
    "s = tf.reduce_sum(a)"
   ]
  },
  {
   "cell_type": "code",
   "execution_count": null,
   "id": "60edb206",
   "metadata": {},
   "outputs": [],
   "source": [
    "s"
   ]
  },
  {
   "cell_type": "code",
   "execution_count": null,
   "id": "a7914297",
   "metadata": {},
   "outputs": [],
   "source": []
  },
  {
   "cell_type": "code",
   "execution_count": null,
   "id": "bb0fbfdd",
   "metadata": {},
   "outputs": [],
   "source": []
  }
 ],
 "metadata": {
  "kernelspec": {
   "display_name": "Python 3 (ipykernel)",
   "language": "python",
   "name": "python3"
  },
  "language_info": {
   "codemirror_mode": {
    "name": "ipython",
    "version": 3
   },
   "file_extension": ".py",
   "mimetype": "text/x-python",
   "name": "python",
   "nbconvert_exporter": "python",
   "pygments_lexer": "ipython3",
   "version": "3.9.7"
  }
 },
 "nbformat": 4,
 "nbformat_minor": 5
}
