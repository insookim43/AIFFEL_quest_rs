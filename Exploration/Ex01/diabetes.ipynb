{
 "cells": [
  {
   "cell_type": "code",
   "execution_count": 98,
   "id": "ccde7a8a",
   "metadata": {},
   "outputs": [],
   "source": [
    "from sklearn.datasets import load_diabetes\n",
    "\n",
    "data = load_diabetes()\n",
    "df_X = data['data']\n",
    "df_y = data['target']"
   ]
  },
  {
   "cell_type": "code",
   "execution_count": 99,
   "id": "72d9cd42",
   "metadata": {},
   "outputs": [],
   "source": [
    "import numpy as np"
   ]
  },
  {
   "cell_type": "code",
   "execution_count": 100,
   "id": "43257fbd",
   "metadata": {},
   "outputs": [],
   "source": [
    "df_X = np.array(df_X)\n",
    "df_y = np.array(df_y)"
   ]
  },
  {
   "cell_type": "code",
   "execution_count": 101,
   "id": "dc2d1eea",
   "metadata": {},
   "outputs": [],
   "source": [
    "from sklearn.model_selection import train_test_split"
   ]
  },
  {
   "cell_type": "code",
   "execution_count": 102,
   "id": "cae3363c",
   "metadata": {},
   "outputs": [],
   "source": [
    "train_X, test_X, train_y, test_y = train_test_split(df_X, df_y, test_size=0.2, random_state=42)"
   ]
  },
  {
   "cell_type": "code",
   "execution_count": 103,
   "id": "36591a15",
   "metadata": {},
   "outputs": [
    {
     "name": "stdout",
     "output_type": "stream",
     "text": [
      "[0.2786894  0.9376207  0.54995009 0.21008435 0.96356335 0.69782046\n",
      " 0.44322624 0.78616089 0.29968611 0.07351227]\n",
      "[0.48295653]\n"
     ]
    }
   ],
   "source": [
    "_, W_len = df_X.shape\n",
    "W = np.random.rand(W_len)\n",
    "b = np.random.rand(1)\n",
    "print(W)\n",
    "print(b)"
   ]
  },
  {
   "cell_type": "code",
   "execution_count": 104,
   "id": "eeb17cef",
   "metadata": {},
   "outputs": [],
   "source": [
    "class linear_model():\n",
    "    def __init__(self, W, b):\n",
    "        \"\"\"\n",
    "        init model parameter.\n",
    "        arguments:\n",
    "            W: coefficient parameter of linear regression\n",
    "            b: bias parameter\n",
    "        \"\"\"\n",
    "        self.W = W\n",
    "        self.b = b\n",
    "    def forward(self, X):\n",
    "        \"\"\"\n",
    "        calculate model's output with stored linear regression parameters\n",
    "        arguments:\n",
    "            x:input (shape: batch_size*feature_size)\n",
    "        return:\n",
    "            pred_y: prediction of linear regression model (shape: batch_size)\n",
    "        \"\"\"\n",
    "        pred_y = 0\n",
    "        for i in range(X.shape[1]):\n",
    "            pred_y += W[i]*X[:,i] + b  # caution W[i]*X[:,i] shape would be (len_data, 1) because of X[:] part\n",
    "        return pred_y"
   ]
  },
  {
   "cell_type": "code",
   "execution_count": 105,
   "id": "02575fd4",
   "metadata": {},
   "outputs": [],
   "source": [
    "def mean_squared_error(true_y, pred_y):\n",
    "    \"\"\"\n",
    "    calculate mean square error\n",
    "    arguments:\n",
    "        true_y: ground truth value of y\n",
    "        pred_y: predicted value of y\n",
    "    return:\n",
    "        error: mean of squared error\n",
    "    \"\"\"\n",
    "    error = (np.sqrt((true_y - pred_y)**2)).mean()\n",
    "    return error\n",
    "\n",
    "def loss(X, y):\n",
    "    \"\"\"\n",
    "    calculate loss\n",
    "    argument :\n",
    "        X:\n",
    "        W:\n",
    "        b:\n",
    "        y:\n",
    "    return:\n",
    "    \"\"\"\n",
    "    predictions = model.forward(X)\n",
    "    L = mean_squared_error(predictions, y)\n",
    "    return L\n",
    "\n",
    "def gradient(X, y):\n",
    "    \"\"\"\n",
    "    calculate gradient\n",
    "    arguments:\n",
    "    return:\n",
    "        gradient\n",
    "    \"\"\"\n",
    "    N = len(y)\n",
    "    y_pred = model.forward(X)\n",
    "    dW = 1/N * X.T.dot(y_pred - y)\n",
    "    db = (y_pred - y).mean()\n",
    "    return dW, db"
   ]
  },
  {
   "cell_type": "code",
   "execution_count": 106,
   "id": "81e57ec0",
   "metadata": {},
   "outputs": [],
   "source": [
    "model = linear_model(W, b)\n",
    "dW, db = gradient(train_X, train_y)"
   ]
  },
  {
   "cell_type": "code",
   "execution_count": 107,
   "id": "5727b87b",
   "metadata": {},
   "outputs": [
    {
     "name": "stdout",
     "output_type": "stream",
     "text": [
      "Iteration 10 : Loss 66.1914\n",
      "Iteration 20 : Loss 65.9833\n",
      "Iteration 30 : Loss 65.7829\n",
      "Iteration 40 : Loss 65.5849\n",
      "Iteration 50 : Loss 65.3885\n",
      "Iteration 60 : Loss 65.1936\n",
      "Iteration 70 : Loss 65.0002\n",
      "Iteration 80 : Loss 64.8108\n",
      "Iteration 90 : Loss 64.6231\n",
      "Iteration 100 : Loss 64.4369\n",
      "Iteration 110 : Loss 64.2521\n",
      "Iteration 120 : Loss 64.0688\n",
      "Iteration 130 : Loss 63.8869\n",
      "Iteration 140 : Loss 63.7105\n",
      "Iteration 150 : Loss 63.5357\n",
      "Iteration 160 : Loss 63.3621\n",
      "Iteration 170 : Loss 63.1899\n",
      "Iteration 180 : Loss 63.0191\n",
      "Iteration 190 : Loss 62.8495\n",
      "Iteration 200 : Loss 62.6813\n",
      "Iteration 210 : Loss 62.5164\n",
      "Iteration 220 : Loss 62.3536\n",
      "Iteration 230 : Loss 62.1946\n",
      "Iteration 240 : Loss 62.0369\n",
      "Iteration 250 : Loss 61.8816\n",
      "Iteration 260 : Loss 61.7275\n",
      "Iteration 270 : Loss 61.5745\n",
      "Iteration 280 : Loss 61.4242\n",
      "Iteration 290 : Loss 61.2765\n",
      "Iteration 300 : Loss 61.1299\n",
      "Iteration 310 : Loss 60.9847\n",
      "Iteration 320 : Loss 60.8418\n",
      "Iteration 330 : Loss 60.7028\n",
      "Iteration 340 : Loss 60.5649\n",
      "Iteration 350 : Loss 60.4290\n",
      "Iteration 360 : Loss 60.2945\n",
      "Iteration 370 : Loss 60.1609\n",
      "Iteration 380 : Loss 60.0284\n",
      "Iteration 390 : Loss 59.8971\n",
      "Iteration 400 : Loss 59.7684\n",
      "Iteration 410 : Loss 59.6407\n",
      "Iteration 420 : Loss 59.5149\n",
      "Iteration 430 : Loss 59.3902\n",
      "Iteration 440 : Loss 59.2663\n",
      "Iteration 450 : Loss 59.1434\n",
      "Iteration 460 : Loss 59.0214\n",
      "Iteration 470 : Loss 58.9002\n",
      "Iteration 480 : Loss 58.7806\n",
      "Iteration 490 : Loss 58.6636\n",
      "Iteration 500 : Loss 58.5478\n",
      "Iteration 510 : Loss 58.4329\n",
      "Iteration 520 : Loss 58.3202\n",
      "Iteration 530 : Loss 58.2092\n",
      "Iteration 540 : Loss 58.0989\n",
      "Iteration 550 : Loss 57.9895\n",
      "Iteration 560 : Loss 57.8808\n",
      "Iteration 570 : Loss 57.7729\n",
      "Iteration 580 : Loss 57.6657\n",
      "Iteration 590 : Loss 57.5603\n",
      "Iteration 600 : Loss 57.4567\n",
      "Iteration 610 : Loss 57.3539\n",
      "Iteration 620 : Loss 57.2517\n",
      "Iteration 630 : Loss 57.1503\n",
      "Iteration 640 : Loss 57.0495\n",
      "Iteration 650 : Loss 56.9495\n",
      "Iteration 660 : Loss 56.8502\n",
      "Iteration 670 : Loss 56.7515\n",
      "Iteration 680 : Loss 56.6536\n",
      "Iteration 690 : Loss 56.5563\n",
      "Iteration 700 : Loss 56.4600\n",
      "Iteration 710 : Loss 56.3646\n",
      "Iteration 720 : Loss 56.2698\n",
      "Iteration 730 : Loss 56.1757\n",
      "Iteration 740 : Loss 56.0822\n",
      "Iteration 750 : Loss 55.9894\n",
      "Iteration 760 : Loss 55.8972\n",
      "Iteration 770 : Loss 55.8057\n",
      "Iteration 780 : Loss 55.7148\n",
      "Iteration 790 : Loss 55.6245\n",
      "Iteration 800 : Loss 55.5348\n",
      "Iteration 810 : Loss 55.4457\n",
      "Iteration 820 : Loss 55.3573\n",
      "Iteration 830 : Loss 55.2694\n",
      "Iteration 840 : Loss 55.1848\n",
      "Iteration 850 : Loss 55.1017\n",
      "Iteration 860 : Loss 55.0192\n",
      "Iteration 870 : Loss 54.9372\n",
      "Iteration 880 : Loss 54.8560\n",
      "Iteration 890 : Loss 54.7759\n",
      "Iteration 900 : Loss 54.6963\n",
      "Iteration 910 : Loss 54.6173\n",
      "Iteration 920 : Loss 54.5388\n",
      "Iteration 930 : Loss 54.4608\n",
      "Iteration 940 : Loss 54.3833\n",
      "Iteration 950 : Loss 54.3063\n",
      "Iteration 960 : Loss 54.2301\n",
      "Iteration 970 : Loss 54.1549\n",
      "Iteration 980 : Loss 54.0801\n",
      "Iteration 990 : Loss 54.0059\n",
      "Iteration 1000 : Loss 53.9322\n"
     ]
    }
   ],
   "source": [
    "LEARNING_RATE = 0.1\n",
    "\n",
    "losses = []\n",
    "\n",
    "for i in range(1, 1001):\n",
    "    dW, db = gradient(train_X, train_y)\n",
    "    model.W -= LEARNING_RATE * dW\n",
    "    model.b -= LEARNING_RATE * db\n",
    "    L = loss(train_X, train_y)\n",
    "    losses.append(L)\n",
    "    if i % 10 == 0:\n",
    "        print('Iteration %d : Loss %0.4f' % (i, L))"
   ]
  },
  {
   "cell_type": "code",
   "execution_count": 108,
   "id": "9c388548",
   "metadata": {},
   "outputs": [
    {
     "data": {
      "image/png": "[encoded data removed]",
      "text/plain": [
       "<Figure size 432x288 with 1 Axes>"
      ]
     },
     "metadata": {
      "needs_background": "light"
     },
     "output_type": "display_data"
    }
   ],
   "source": [
    "import matplotlib.pyplot as plt\n",
    "plt.plot(losses)\n",
    "plt.show()"
   ]
  },
  {
   "cell_type": "code",
   "execution_count": 111,
   "id": "071f5ec0",
   "metadata": {},
   "outputs": [
    {
     "data": {
      "text/plain": [
       "50.20286033585889"
      ]
     },
     "execution_count": 111,
     "metadata": {},
     "output_type": "execute_result"
    }
   ],
   "source": [
    "prediction = model.forward(test_X)\n",
    "mse = loss(test_X, test_y)\n",
    "mse"
   ]
  },
  {
   "cell_type": "code",
   "execution_count": 113,
   "id": "d829aff8",
   "metadata": {},
   "outputs": [
    {
     "data": {
      "image/png": "[encoded data removed]",
      "text/plain": [
       "<Figure size 432x288 with 1 Axes>"
      ]
     },
     "metadata": {
      "needs_background": "light"
     },
     "output_type": "display_data"
    }
   ],
   "source": [
    "plt.scatter(test_X[:, 0], test_y)\n",
    "plt.scatter(test_X[:, 0], prediction)\n",
    "plt.show()"
   ]
  }
 ],
 "metadata": {
  "kernelspec": {
   "display_name": "Python 3 (ipykernel)",
   "language": "python",
   "name": "python3"
  },
  "language_info": {
   "codemirror_mode": {
    "name": "ipython",
    "version": 3
   },
   "file_extension": ".py",
   "mimetype": "text/x-python",
   "name": "python",
   "nbconvert_exporter": "python",
   "pygments_lexer": "ipython3",
   "version": "3.9.7"
  }
 },
 "nbformat": 4,
 "nbformat_minor": 5
}
